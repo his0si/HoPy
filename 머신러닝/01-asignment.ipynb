{
  "nbformat": 4,
  "nbformat_minor": 0,
  "metadata": {
    "colab": {
      "provenance": []
    },
    "kernelspec": {
      "name": "python3",
      "display_name": "Python 3"
    },
    "language_info": {
      "name": "python"
    }
  },
  "cells": [
    {
      "cell_type": "markdown",
      "source": [
        "**데이터를 분리하는 방법1: 홀드아웃 방법**"
      ],
      "metadata": {
        "id": "fPhatmjIVwaH"
      }
    },
    {
      "cell_type": "code",
      "execution_count": 5,
      "metadata": {
        "colab": {
          "base_uri": "https://localhost:8080/"
        },
        "id": "PB3rfC9JMLJO",
        "outputId": "748c8bef-6718-4a6e-80f2-d611fc9f1be0"
      },
      "outputs": [
        {
          "output_type": "stream",
          "name": "stdout",
          "text": [
            "X_train: (120, 4)\n",
            "y_train: (120,)\n",
            "X_test: (30, 4)\n",
            "y_test [2 1 0 2 0 2 0 1 1 1 2 1 1 1 1 0 1 1 0 0 2 1 0 0 2 0 0 1 1 0]\n"
          ]
        }
      ],
      "source": [
        "from sklearn import datasets\n",
        "from sklearn.model_selection import train_test_split\n",
        "\n",
        "#Iris 데이터셋을 읽어들입니다\n",
        "iris = datasets.load_iris()\n",
        "X = iris.data\n",
        "y = iris.target\n",
        "\n",
        "#X_train, X_test, y_train, y_test에 데이터를 저장합니다.\n",
        "X_train, X_test, y_train, y_test = train_test_split(X,y,test_size = 0.2,random_state=0)\n",
        "\n",
        "print(\"X_train:\" , X_train.shape)\n",
        "print(\"y_train:\" , y_train.shape)\n",
        "print(\"X_test:\" , X_test.shape)\n",
        "print(\"y_test\" , y_test)"
      ]
    },
    {
      "cell_type": "markdown",
      "source": [
        "**데이터를 분리하는 방법2: K-분할 교차검증**"
      ],
      "metadata": {
        "id": "h3-gYf7pVtO8"
      }
    },
    {
      "cell_type": "code",
      "source": [
        "# 코드의 실행에 필요한 모듈을 import 합니다\n",
        "from sklearn import svm, datasets\n",
        "from sklearn.model_selection import cross_val_score\n",
        "\n",
        "# Iris 데이터셋을 읽어들입니다.\n",
        "iris = datasets.load_iris()\n",
        "X = iris.data\n",
        "y = iris.target\n",
        "\n",
        "# 머신러닝 알고리즘 SVM을 사용합니다\n",
        "svc = svm.SVC(C=1, kernel=\"rbf\", gamma=0.001)\n",
        "\n",
        "# 교차 검증을 이용하여 점수를 구합니다\n",
        "# 내부에서는 X_train, X_test, y_train, y_test 로 분할 처리됩니다\n",
        "scores = cross_val_score(svc, X, y, cv=5)\n",
        "\n",
        "#훈련 데이터와 테스트 데이터의 크기를 확인합니다\n",
        "print(scores)\n",
        "print(\"average score: \", scores.mean())"
      ],
      "metadata": {
        "id": "sW4RK0XiWD4b"
      },
      "execution_count": null,
      "outputs": []
    }
  ]
}