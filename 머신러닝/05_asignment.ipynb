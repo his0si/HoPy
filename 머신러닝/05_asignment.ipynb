{
  "nbformat": 4,
  "nbformat_minor": 0,
  "metadata": {
    "colab": {
      "provenance": []
    },
    "kernelspec": {
      "name": "python3",
      "display_name": "Python 3"
    },
    "language_info": {
      "name": "python"
    }
  },
  "cells": [
    {
      "cell_type": "markdown",
      "source": [
        "**하이퍼 파라미터**"
      ],
      "metadata": {
        "id": "wSj-nNk8ydGK"
      }
    },
    {
      "cell_type": "code",
      "execution_count": 3,
      "metadata": {
        "colab": {
          "base_uri": "https://localhost:8080/"
        },
        "id": "pKGA6SbRwsqw",
        "outputId": "dc8a1516-b546-40c7-ebb1-20ac99611560"
      },
      "outputs": [
        {
          "output_type": "stream",
          "name": "stdout",
          "text": [
            "Downloading data from https://storage.googleapis.com/tensorflow/tf-keras-datasets/mnist.npz\n",
            "11490434/11490434 [==============================] - 0s 0us/step\n"
          ]
        }
      ],
      "source": [
        "import numpy as np\n",
        "import matplotlib.pyplot as plt\n",
        "from keras.datasets import mnist\n",
        "from keras.layers import Activation, Dense, Dropout\n",
        "from keras.models import Sequential, load_model\n",
        "from keras import optimizers\n",
        "#from keras.utils.np_utils import to_categorical\n",
        "from tensorflow.keras.utils import to_categorical\n",
        "# keras랑 tensorflow가 라이브러리 바꿔서 종종 안되면 버전 다운그레이드하거나 구글링하면 나온다\n",
        "\n",
        "(X_train, y_train),(X_test,y_test)=mnist.load_data()\n",
        "\n",
        "X_train=X_train.reshape(X_train.shape[0],784)[:6000]\n",
        "X_test=X_test.reshape(X_test.shape[0],784)[:1000]\n",
        "y_train=to_categorical(y_train)[:6000]\n",
        "y_test=to_categorical(y_test)[:1000]\n",
        "\n",
        "model=Sequential()\n",
        "model.add(Dense(256,input_dim=784))\n",
        "model.add(Activation(\"sigmoid\"))\n",
        "\n",
        "def funcA():\n",
        "  model.add(Dense(128))\n",
        "  model.add(Activation(\"sigmoid\"))\n",
        "\n",
        "def funcB():\n",
        "  model.add(Dense(128))\n",
        "  model.add(Activation(\"sigmoid\"))\n",
        "  model.add(Dense(128))\n",
        "  model.add(Activation(\"sigmoid\"))\n",
        "  model.add(Dense(128))\n",
        "  model.add(Activation(\"sigmoid\"))\n",
        "\n",
        "def funcC():\n",
        "  model.add(Dense(1568))\n",
        "  model.add(Activation(\"sigmoid\"))\n",
        "\n",
        "  funcA()\n",
        "  #funcB()\n",
        "  #funcC()\n",
        "\n",
        "  model.add(Dense(10))\n",
        "  model.add(Activation(\"softmax\"))\n",
        "\n",
        "  sgd=optimizers.SGD(lr=0.1)\n",
        "\n",
        "  model.compile(optimizer=sgd, loss=\"categorical_crossentropy\",\n",
        "                metrics=[\"accuracy\"])\n",
        "\n",
        "  model.fit(X_train, y_train, batch_size=32,epochs=3,verbose=1)\n",
        "\n",
        "  score=model.evaluate(X_test,y_test,verbose=0)\n",
        "  print(\"evaluate loss:{0[0]}\\nevaluate acc:{0[1]}\".format(score))"
      ]
    },
    {
      "cell_type": "markdown",
      "source": [
        "**드롭 아웃**"
      ],
      "metadata": {
        "id": "g_DSuuFkPUTR"
      }
    },
    {
      "cell_type": "code",
      "source": [
        "import numpy as np\n",
        "import matplotlib.pyplot as plt\n",
        "from keras.datasets import mnist\n",
        "from keras.layers import Activation, Dense, Dropout\n",
        "from keras.models import Sequential, load_model\n",
        "from keras import optimizers\n",
        "#from keras.utils.np_utils import to_categorical\n",
        "from tensorflow.keras.utils import to_categorical\n",
        "# keras랑 tensorflow가 라이브러리 바꿔서 종종 안되면 버전 다운그레이드하거나 구글링하면 나온다\n",
        "\n",
        "(X_train, y_train),(X_test,y_test)=mnist.load_data()\n",
        "\n",
        "X_train=X_train.reshape(X_train.shape[0],784)[:6000]\n",
        "X_test=X_test.reshape(X_test.shape[0],784)[:1000]\n",
        "y_train=to_categorical(y_train)[:6000]\n",
        "y_test=to_categorical(y_test)[:1000]\n",
        "\n",
        "model=Sequential()\n",
        "model.add(Dense(256,input_dim=784))\n",
        "model.add(Activation(\"sigmoid\"))\n",
        "\n",
        "model.add(Dense(128))\n",
        "model.add(Activation(\"sigmoid\"))\n",
        "\n",
        "model.add(Dropout(rate=0.5)) # 드롭아웃\n",
        "\n",
        "model.add(Dense(10))\n",
        "model.add(Activation(\"softmax\"))\n",
        "\n",
        "sgd=optimizers.SGD(lr=0.1)\n",
        "\n",
        "model.compile(optimizer=sgd,loss='categorical_crossentropy', metrics=[\"accuracy\"])\n",
        "\n",
        "history=model.fit(X_train, y_train, batch_size=32, epochs=5,verbose=1, validation_data=(X_test,y_test))\n",
        "\n",
        "#acc 와 val_acc 플롯\n",
        "plt.plot(history.history[\"accuracy\"],label=\"acc\",ls=\"-\",marker=\"o\")\n",
        "plt.plot(history.history[\"val_accuracy\"],label=\"val_acc\",ls=\"-\",marker=\"x\")\n",
        "plt.ylabel(\"accuracy\")\n",
        "plt.xlabel(\"epoch\")\n",
        "plt.legend(loc=\"best\")\n",
        "plt.show()"
      ],
      "metadata": {
        "colab": {
          "base_uri": "https://localhost:8080/",
          "height": 649
        },
        "id": "oT-iK_byPa5c",
        "outputId": "b9e482e6-cade-43f7-ad57-0484ec0a9601"
      },
      "execution_count": 11,
      "outputs": [
        {
          "output_type": "stream",
          "name": "stderr",
          "text": [
            "WARNING:absl:`lr` is deprecated in Keras optimizer, please use `learning_rate` or use the legacy optimizer, e.g.,tf.keras.optimizers.legacy.SGD.\n"
          ]
        },
        {
          "output_type": "stream",
          "name": "stdout",
          "text": [
            "Epoch 1/5\n",
            "188/188 [==============================] - 1s 5ms/step - loss: 2.2653 - accuracy: 0.1920 - val_loss: 1.9280 - val_accuracy: 0.5270\n",
            "Epoch 2/5\n",
            "188/188 [==============================] - 1s 4ms/step - loss: 1.8857 - accuracy: 0.3668 - val_loss: 1.6470 - val_accuracy: 0.6580\n",
            "Epoch 3/5\n",
            "188/188 [==============================] - 1s 4ms/step - loss: 1.6131 - accuracy: 0.5020 - val_loss: 1.4071 - val_accuracy: 0.6930\n",
            "Epoch 4/5\n",
            "188/188 [==============================] - 1s 4ms/step - loss: 1.3970 - accuracy: 0.5867 - val_loss: 1.2189 - val_accuracy: 0.7270\n",
            "Epoch 5/5\n",
            "188/188 [==============================] - 1s 4ms/step - loss: 1.2294 - accuracy: 0.6427 - val_loss: 1.0713 - val_accuracy: 0.7710\n"
          ]
        },
        {
          "output_type": "display_data",
          "data": {
            "text/plain": [
              "<Figure size 640x480 with 1 Axes>"
            ],
            "image/png": "[encoded data removed]"
          },
          "metadata": {}
        }
      ]
    },
    {
      "cell_type": "markdown",
      "source": [
        "**5차 팀과제**"
      ],
      "metadata": {
        "id": "T4eIZcypKcvm"
      }
    },
    {
      "cell_type": "code",
      "source": [
        "import numpy as np\n",
        "import matplotlib.pyplot as plt\n",
        "from keras.datasets import mnist\n",
        "from keras.layers import Activation, Dense, Dropout\n",
        "from keras.models import Sequential, load_model\n",
        "from keras import optimizers\n",
        "#from keras.utils.np_utils import to_categorical\n",
        "from tensorflow.keras.utils import to_categorical\n",
        "\n",
        "(X_train, y_train),(X_test,y_test)=mnist.load_data()\n",
        "\n",
        "X_train=X_train.reshape(X_train.shape[0],784)[:6000]\n",
        "X_test=X_test.reshape(X_test.shape[0],784)[:1000]\n",
        "y_train=to_categorical(y_train)[:6000]\n",
        "y_test=to_categorical(y_test)[:1000]\n",
        "\n",
        "model=Sequential()\n",
        "model.add(Dense(256,input_dim=784))\n",
        "model.add(Activation(\"sigmoid\"))\n",
        "\n",
        "model.add(Dense(128))\n",
        "model.add(Activation(\"sigmoid\"))\n",
        "\n",
        "model.add(Dropout(rate=0.5))\n",
        "\n",
        "model.add(Dense(10))\n",
        "model.add(Activation(\"softmax\"))\n",
        "\n",
        "sgd=optimizers.SGD(learning_rate=0.1)\n",
        "model.compile(optimizer=sgd, loss=\"categorical_crossentropy\", metrics=[\"accuracy\"])\n",
        "\n",
        "model.fit(X_train,y_train,batch_size=10,epochs=5, verbose=1)\n",
        "score=model.evaluate(X_test,y_test,verbose=0)\n",
        "print(\"evaluate loss: {0[0]}\\nnevaluate acc: {0[1]}\".format(score))"
      ],
      "metadata": {
        "colab": {
          "base_uri": "https://localhost:8080/"
        },
        "id": "Yu5yF7a2HeWX",
        "outputId": "95712e2d-c8d9-4fe3-d1bd-d92da07bde10"
      },
      "execution_count": 1,
      "outputs": [
        {
          "output_type": "stream",
          "name": "stdout",
          "text": [
            "Downloading data from https://storage.googleapis.com/tensorflow/tf-keras-datasets/mnist.npz\n",
            "11490434/11490434 [==============================] - 1s 0us/step\n",
            "Epoch 1/5\n",
            "600/600 [==============================] - 3s 3ms/step - loss: 1.7152 - accuracy: 0.3890\n",
            "Epoch 2/5\n",
            "600/600 [==============================] - 3s 5ms/step - loss: 1.2662 - accuracy: 0.5395\n",
            "Epoch 3/5\n",
            "600/600 [==============================] - 2s 3ms/step - loss: 1.2188 - accuracy: 0.5595\n",
            "Epoch 4/5\n",
            "600/600 [==============================] - 2s 3ms/step - loss: 1.1848 - accuracy: 0.5772\n",
            "Epoch 5/5\n",
            "600/600 [==============================] - 2s 3ms/step - loss: 1.1559 - accuracy: 0.5805\n",
            "evaluate loss: 0.998473048210144\n",
            "nevaluate acc: 0.6729999780654907\n"
          ]
        }
      ]
    }
  ]
}