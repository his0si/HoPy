{
  "nbformat": 4,
  "nbformat_minor": 0,
  "metadata": {
    "colab": {
      "provenance": []
    },
    "kernelspec": {
      "name": "python3",
      "display_name": "Python 3"
    },
    "language_info": {
      "name": "python"
    }
  },
  "cells": [
    {
      "cell_type": "markdown",
      "source": [
        "# 3주차 데이터 분석 과제 (4장 실습)\n",
        "\n",
        "**학번** :2276093\n",
        "\n",
        "**이름** :김희서\n",
        "\n",
        "**주의사항**\n",
        "해당 과제를 하기 전에 파일 -> Drive에 사본 저장을 클릭하셔서 드라이브에 사본을 저장하신 후 사본에서 과제를 작성해주세요.\n",
        "\n",
        "과제를 하시다가 어려운 점이 생기셨다면, 얼마든지 \"데이터분석 분반 톡방\"에 남겨주시면 멘토들이 답변 드리겠습니다.\n",
        "\n"
      ],
      "metadata": {
        "id": "qSOIexGM4bDj"
      }
    },
    {
      "cell_type": "markdown",
      "source": [
        "# **0. 테스트 문제**"
      ],
      "metadata": {
        "id": "ChJzdfs05FB5"
      }
    },
    {
      "cell_type": "code",
      "source": [
        "'''\n",
        "1부터 16까지의 연속된 정수값을 갖는 1차원 배열을 생성하고,\n",
        "2행 8열의 shape을 갖는 2차원 배열로 형태를 변환하시오.\n",
        "이를 1~8, 9~16을 원소로 갖는 1차원 배열 2개를 반환하는 코드를 작성하시오.\n",
        "'''\n",
        "import numpy as np\n",
        "arr=np.array([1,2,3,4,5,6,7,8,9,10,11,12,13,14,15,16])\n",
        "\n",
        "arr_2d = arr.reshape(2, 8)\n",
        "\n",
        "arr1 = arr_2d[0]\n",
        "arr2 = arr_2d[1]\n",
        "\n",
        "print(\"첫 번째 배열:\", arr1)\n",
        "print(\"두 번째 배열:\", arr2)"
      ],
      "metadata": {
        "id": "hkVo-yFKceuJ",
        "colab": {
          "base_uri": "https://localhost:8080/"
        },
        "outputId": "c8f05aa3-9cf5-4f36-8091-42c6e9d5df23"
      },
      "execution_count": 2,
      "outputs": [
        {
          "output_type": "stream",
          "name": "stdout",
          "text": [
            "첫 번째 배열: [1 2 3 4 5 6 7 8]\n",
            "두 번째 배열: [ 9 10 11 12 13 14 15 16]\n"
          ]
        }
      ]
    },
    {
      "cell_type": "markdown",
      "source": [
        "# **1. 실습 문제**"
      ],
      "metadata": {
        "id": "u3h0Ybh95K8b"
      }
    },
    {
      "cell_type": "markdown",
      "source": [
        "4-2"
      ],
      "metadata": {
        "id": "fL9jfJTk5OT9"
      }
    },
    {
      "cell_type": "code",
      "source": [
        "# 실습4-1. 1차원 배열(list)로 numpy 배열 생성\n",
        "import numpy as np\n",
        "arr = np.array([1, 2, 3, 4, 5])"
      ],
      "metadata": {
        "id": "jk0h2XsfSgJH"
      },
      "execution_count": null,
      "outputs": []
    },
    {
      "cell_type": "code",
      "source": [
        "# 실습4-2. 2차원 배열(list)로 numpy 배열 생성"
      ],
      "metadata": {
        "id": "abJxUtFgSf-c"
      },
      "execution_count": null,
      "outputs": []
    },
    {
      "cell_type": "code",
      "source": [
        "# 실습4-3. 3차원 배열(list)로 numpy 배열 생성"
      ],
      "metadata": {
        "id": "BVsU3tnTSf5P"
      },
      "execution_count": null,
      "outputs": []
    },
    {
      "cell_type": "code",
      "source": [
        "# 실습4-4. arange( ) : 정수 범위로 배열 생성"
      ],
      "metadata": {
        "id": "IE0jT1KGSfy_"
      },
      "execution_count": null,
      "outputs": []
    },
    {
      "cell_type": "code",
      "source": [
        "# 실습4-5. linspace() : 범위 내에서 균등 간격의 배열 생성"
      ],
      "metadata": {
        "id": "WzhklTx-Sfrf"
      },
      "execution_count": null,
      "outputs": []
    },
    {
      "cell_type": "code",
      "source": [
        "# 실습4-6. logspace(): 범위 내에서 균등 간격으로 로그 스케일로 배열 생성"
      ],
      "metadata": {
        "id": "PrFwBtu_TF9N"
      },
      "execution_count": null,
      "outputs": []
    },
    {
      "cell_type": "code",
      "source": [
        "# 실습4-7. random : 랜덤한 수의 배열 생성"
      ],
      "metadata": {
        "id": "5avPC2pmTGr0"
      },
      "execution_count": null,
      "outputs": []
    },
    {
      "cell_type": "code",
      "source": [
        "# 실습4-8. randint : 랜덤한 정수의 배열 생성"
      ],
      "metadata": {
        "id": "t3nvE6_bTGeB"
      },
      "execution_count": null,
      "outputs": []
    },
    {
      "cell_type": "code",
      "source": [
        "# 실습4-9. rand: 균등분포를 고려한 랜덤한 수의 배열 생성"
      ],
      "metadata": {
        "id": "Z_CJBJSzUGgy"
      },
      "execution_count": null,
      "outputs": []
    },
    {
      "cell_type": "code",
      "source": [
        "# 실습4-10. randn : 표준 정규분포를 고려한 랜덤한 수의 배열 생성"
      ],
      "metadata": {
        "id": "vfoFZqL9UGWm"
      },
      "execution_count": null,
      "outputs": []
    },
    {
      "cell_type": "markdown",
      "source": [
        "4-3"
      ],
      "metadata": {
        "id": "bytAR8qs5ReO"
      }
    },
    {
      "cell_type": "code",
      "source": [
        "# 실습4-11. 배열의 속성 알아보기\n"
      ],
      "metadata": {
        "id": "mmdRFbCAnYgN"
      },
      "execution_count": null,
      "outputs": []
    },
    {
      "cell_type": "code",
      "source": [
        "# 실습4-12. 1차원 배열의 인덱싱 및 변경\n"
      ],
      "metadata": {
        "id": "A5nMcxp6oBVs"
      },
      "execution_count": null,
      "outputs": []
    },
    {
      "cell_type": "code",
      "source": [
        "# 실습4-13. 2차원 배열의 인덱싱 및 변경\n"
      ],
      "metadata": {
        "id": "sPT3we97nYl9"
      },
      "execution_count": null,
      "outputs": []
    },
    {
      "cell_type": "code",
      "source": [
        "# 실습4-14. 1차원 배열의 슬라이싱\n"
      ],
      "metadata": {
        "id": "xDDYpWEQoDRc"
      },
      "execution_count": null,
      "outputs": []
    },
    {
      "cell_type": "code",
      "source": [
        "# 실습4-15. 2차원 배열의 슬라이싱\n"
      ],
      "metadata": {
        "id": "Ftm4gKCJnYoY"
      },
      "execution_count": null,
      "outputs": []
    },
    {
      "cell_type": "code",
      "source": [
        "# 실습4-16. 불린 인덱싱 개념\n"
      ],
      "metadata": {
        "id": "86qr52_RnYrC"
      },
      "execution_count": null,
      "outputs": []
    },
    {
      "cell_type": "code",
      "source": [
        "# 실습4-17. 불린 인덱싱 : 비교 연산자 사용\n"
      ],
      "metadata": {
        "id": "7EbJIijKny1S"
      },
      "execution_count": null,
      "outputs": []
    },
    {
      "cell_type": "code",
      "source": [
        "# 실습4-18. 불리언 인덱싱 : 관계 연산자 사용\n"
      ],
      "metadata": {
        "id": "86Pk1E1bny3d"
      },
      "execution_count": null,
      "outputs": []
    },
    {
      "cell_type": "markdown",
      "source": [
        "4-4"
      ],
      "metadata": {
        "id": "t_hy1-g85SMJ"
      }
    },
    {
      "cell_type": "code",
      "source": [
        "# 실습 4-19. 산술 연산: 사칙연산 연산자와 함수 활용"
      ],
      "metadata": {
        "id": "0np8WK57pcsa"
      },
      "execution_count": null,
      "outputs": []
    },
    {
      "cell_type": "code",
      "source": [
        "# 실습 4-20. 기타 연산: 지수, 제곱근, sin, cos, tan, log"
      ],
      "metadata": {
        "id": "-Z3wCQpapmSv"
      },
      "execution_count": null,
      "outputs": []
    },
    {
      "cell_type": "code",
      "source": [
        "# 실습 4-21. 합계: [ndarray 배열 객체].sum(), np.sum()"
      ],
      "metadata": {
        "id": "WTsGiLScpw84"
      },
      "execution_count": null,
      "outputs": []
    },
    {
      "cell_type": "code",
      "source": [
        "# 실습 4-22. 최댓값: [ndarray 배열 객체].max(), np.max()"
      ],
      "metadata": {
        "id": "7JEEExh-p3H2"
      },
      "execution_count": null,
      "outputs": []
    },
    {
      "cell_type": "code",
      "source": [
        "# 실습 4-23. 최솟값: [ndarray 배열 객체].min(), np.min()"
      ],
      "metadata": {
        "id": "987y3MA5qFBI"
      },
      "execution_count": null,
      "outputs": []
    },
    {
      "cell_type": "code",
      "source": [
        "# 실습 4-24. 평균과 중앙값: [ndarray 배열 객체].mean(), np.mean() / np.median()"
      ],
      "metadata": {
        "id": "prpcOGcQqJuC"
      },
      "execution_count": null,
      "outputs": []
    },
    {
      "cell_type": "code",
      "source": [
        "# 실습 4-25. 표준편차: [ndarray 배열 객체].std(), np.std()"
      ],
      "metadata": {
        "id": "VrGeMto0qTEE"
      },
      "execution_count": null,
      "outputs": []
    },
    {
      "cell_type": "code",
      "source": [
        "# 실습 4-26. 브로드캐스팅"
      ],
      "metadata": {
        "id": "EGeU1We9qdGU"
      },
      "execution_count": null,
      "outputs": []
    },
    {
      "cell_type": "code",
      "source": [
        "# 실습 4-27. shape가 다른 두 배열의 연산: 브로드캐스팅 | 스칼라 배열 변경과 연산"
      ],
      "metadata": {
        "id": "ANk4A31EqfV8"
      },
      "execution_count": null,
      "outputs": []
    },
    {
      "cell_type": "code",
      "source": [
        "# 실습 4-28. shape가 다른 두 배열의 연산: 브로드캐스팅"
      ],
      "metadata": {
        "id": "0tX4cNWdqjiw"
      },
      "execution_count": null,
      "outputs": []
    },
    {
      "cell_type": "code",
      "source": [
        "# 실습 4-29. 벡터 연산 수행시간 비교"
      ],
      "metadata": {
        "id": "m8q0ZzbJruFt"
      },
      "execution_count": null,
      "outputs": []
    },
    {
      "cell_type": "markdown",
      "source": [
        "4-5"
      ],
      "metadata": {
        "id": "xCHC878V5S5G"
      }
    },
    {
      "cell_type": "code",
      "source": [
        "# 실습 4-30. shape가 다른 두 배열의 연산"
      ],
      "metadata": {
        "id": "qVgKDPdXsfZf"
      },
      "execution_count": null,
      "outputs": []
    },
    {
      "cell_type": "code",
      "source": [
        "# 실습 4-31. 배열을 1차원 배열로 반환"
      ],
      "metadata": {
        "id": "mfnocBwGs2TS"
      },
      "execution_count": null,
      "outputs": []
    },
    {
      "cell_type": "code",
      "source": [
        "# 실습 4-32. reshape 함수"
      ],
      "metadata": {
        "id": "aYPFJHXBs4u8"
      },
      "execution_count": null,
      "outputs": []
    },
    {
      "cell_type": "code",
      "source": [
        "# 실습 4-33. 다차원 list data를 reshape하기: np.array()"
      ],
      "metadata": {
        "id": "O53f9jlls828"
      },
      "execution_count": null,
      "outputs": []
    },
    {
      "cell_type": "code",
      "source": [
        "# 실습 4-34. resize 함수: 요소 수가 동일한 경우"
      ],
      "metadata": {
        "id": "vdHVHFJQtBZg"
      },
      "execution_count": null,
      "outputs": []
    },
    {
      "cell_type": "code",
      "source": [
        "# 실습 4-35. resize 함수: 요소 수가 더 많은 경우"
      ],
      "metadata": {
        "id": "fau2t6-ItGpn"
      },
      "execution_count": null,
      "outputs": []
    },
    {
      "cell_type": "code",
      "source": [
        "# 실습 4-36. resize 함수: 요소 수가 더 적은 경우"
      ],
      "metadata": {
        "id": "6DJFXwc_tKMQ"
      },
      "execution_count": null,
      "outputs": []
    },
    {
      "cell_type": "code",
      "source": [
        "# 실습 4-37. resize() vs reshape()"
      ],
      "metadata": {
        "id": "3nb1RVCQtNdQ"
      },
      "execution_count": null,
      "outputs": []
    },
    {
      "cell_type": "code",
      "source": [
        "# 실습 4-38. 값 추가: np.append()"
      ],
      "metadata": {
        "id": "FzgzFPvjtRqk"
      },
      "execution_count": null,
      "outputs": []
    },
    {
      "cell_type": "code",
      "source": [
        "# 실습 4-39. 배열 추가"
      ],
      "metadata": {
        "id": "ANmln8ketW5n"
      },
      "execution_count": null,
      "outputs": []
    },
    {
      "cell_type": "code",
      "source": [
        "# 실습 4-40. 축 추가"
      ],
      "metadata": {
        "id": "jWV3FtxztbNY"
      },
      "execution_count": null,
      "outputs": []
    },
    {
      "cell_type": "code",
      "source": [
        "# 실습 4-41. 값 추가: np.insert()\n",
        "# 1차원 배열"
      ],
      "metadata": {
        "id": "UkSFCbisu-Sv"
      },
      "execution_count": null,
      "outputs": []
    },
    {
      "cell_type": "code",
      "source": [
        "# 실습 4-43. 축 추가: np.insert(arr, obj, values, axis=0) *axis=1은 세로 방향"
      ],
      "metadata": {
        "id": "kJXk0isEvETr"
      },
      "execution_count": null,
      "outputs": []
    },
    {
      "cell_type": "code",
      "source": [
        "# 실습 4-44. 값 삭제: np.delete()"
      ],
      "metadata": {
        "id": "PTHc3UdFvW3U"
      },
      "execution_count": null,
      "outputs": []
    },
    {
      "cell_type": "code",
      "source": [
        "# 실습 4-45. 값 삭제 축 지정"
      ],
      "metadata": {
        "id": "dFHW4iC4vkSC"
      },
      "execution_count": null,
      "outputs": []
    },
    {
      "cell_type": "code",
      "source": [
        "# 실습 4-46. 배열 결합"
      ],
      "metadata": {
        "id": "vhbMvgi9vthk"
      },
      "execution_count": null,
      "outputs": []
    },
    {
      "cell_type": "code",
      "source": [
        "# 실습 4-47. 배열 결합 축 지정"
      ],
      "metadata": {
        "id": "iY1ZfI8Fvv6O"
      },
      "execution_count": null,
      "outputs": []
    },
    {
      "cell_type": "code",
      "source": [
        "# 실습 4-48. 수직 방향 배열 결합: np.vstack()"
      ],
      "metadata": {
        "id": "RbPAu0x8v2ga"
      },
      "execution_count": null,
      "outputs": []
    },
    {
      "cell_type": "code",
      "source": [
        "# 실습 4-49. 수평 방향 배열 결합: np.hstack()"
      ],
      "metadata": {
        "id": "ytdHhzoev4nZ"
      },
      "execution_count": null,
      "outputs": []
    },
    {
      "cell_type": "code",
      "source": [
        "# 실습 4-50. 수평 방향 배열 분리: np.hsplit()"
      ],
      "metadata": {
        "id": "SyD1OYKrv7Ji"
      },
      "execution_count": null,
      "outputs": []
    },
    {
      "cell_type": "code",
      "source": [
        "# 실습 4-51. 수직 방향 배열 분리: np.vsplit()"
      ],
      "metadata": {
        "id": "b8_Ob5Yiv9P7"
      },
      "execution_count": null,
      "outputs": []
    },
    {
      "cell_type": "markdown",
      "source": [
        "# **2. 연습 문제**"
      ],
      "metadata": {
        "id": "kJ6UJqJeWcRy"
      }
    },
    {
      "cell_type": "code",
      "source": [
        "# 연습 2-1. 값이 10~50인 벡터를 만들고 벡터를 반전시켜 출력해 보세요."
      ],
      "metadata": {
        "id": "RT0q5A3FWilq"
      },
      "execution_count": null,
      "outputs": []
    },
    {
      "cell_type": "code",
      "source": [
        "# 연습 2-2. 랜덤 값이 있는 10x10 배열을 만들고 최댓값과 최솟값을 찾아보세요."
      ],
      "metadata": {
        "id": "WQUsiQC3WuSX"
      },
      "execution_count": null,
      "outputs": []
    },
    {
      "cell_type": "code",
      "source": [
        "# 연습 2-3. 0~8 범위의 값을 사용하여 3x3 배열을 생성해 보세요."
      ],
      "metadata": {
        "id": "V46iFoq3W67f"
      },
      "execution_count": null,
      "outputs": []
    },
    {
      "cell_type": "code",
      "source": [
        "# 연습 2-4. 다음과 같이 1에서 24까지의 값을 가지는 4x6 크기의 2차웢 행렬 arr을 생성해 보세요."
      ],
      "metadata": {
        "id": "mvnTZVtxW7Ma"
      },
      "execution_count": null,
      "outputs": []
    },
    {
      "cell_type": "code",
      "source": [
        "# 연습 2-5. arr 배열에 슬라이싱을 적용하여 다음과 같은 값을 가지는 배열을 생성해 보세요."
      ],
      "metadata": {
        "id": "qVhUKWj3W7iA"
      },
      "execution_count": null,
      "outputs": []
    },
    {
      "cell_type": "code",
      "source": [
        "# 연습 2-6. arr 배열에 슬라이싱을 적용하여 다음과 같은 값을 가지는 배열을 생성해 보세요."
      ],
      "metadata": {
        "id": "4GrVXWRiXZxd"
      },
      "execution_count": null,
      "outputs": []
    },
    {
      "cell_type": "code",
      "source": [
        "# 연습 2-7. arr 배열에서 2의 배수만 출력해 보세요."
      ],
      "metadata": {
        "id": "qgUl6bZDXZ9J"
      },
      "execution_count": null,
      "outputs": []
    },
    {
      "cell_type": "code",
      "source": [
        "# 연습 2-8. arr 배열에서 10부터 20까지의 값만 출력해 보세요."
      ],
      "metadata": {
        "id": "83Bb_1njXabI"
      },
      "execution_count": null,
      "outputs": []
    },
    {
      "cell_type": "code",
      "source": [
        "'''\n",
        "연습 4. 학생들의 근로 장학금이 numpy 배열에 저장되어 있다.\n",
        "이번 학기 학생들의 근로장학금을 1.5배 올려주려고 한다.\n",
        "다음은 인상된 근로 장학금을 출력하고 근로장학금이 평균 근로장학금보다 많은 학생들의 근로장학금을 출력하고 원소의 수를 출력하는 프로그램이다.\n",
        "실행결과를 확인하고 빈칸에 가장 알맞은 답을 작성해 보세요.\n",
        "'''\n",
        "\n",
        "import numpy as np\n",
        "\n",
        "scholarship = np.array([100, 200, 150, 300, 250, 400, 350])\n",
        "increased_scholarship = scholarship * 1.5\n",
        "\n",
        "print(\"인상된 근로 장학금:\")\n",
        "print(increased_scholarship)\n",
        "\n",
        "avg_scholarship = np.mean(scholarship)\n",
        "\n",
        "print(\"\\n평균 근로 장학금:\", avg_scholarship)\n",
        "\n",
        "# 평균 근로 장학금보다 많은 근로 장학금을 받은 학생들의 근로 장학금\n",
        "more_than_avg = scholarship[scholarship > avg_scholarship]\n",
        "num_more_than_avg = len(more_than_avg)\n",
        "\n",
        "print(\"\\n평균 근로 장학금 이상을 받은 학생들의 근로 장학금:\")\n",
        "print(more_than_avg)\n",
        "print(\"학생 수:\", num_more_than_avg)"
      ],
      "metadata": {
        "id": "AXhnn4ssXs1y",
        "colab": {
          "base_uri": "https://localhost:8080/"
        },
        "outputId": "5bf01a4e-b3f0-4edb-97a4-e5af26779e0d"
      },
      "execution_count": 1,
      "outputs": [
        {
          "output_type": "stream",
          "name": "stdout",
          "text": [
            "인상된 근로 장학금:\n",
            "[150. 300. 225. 450. 375. 600. 525.]\n",
            "\n",
            "평균 근로 장학금: 250.0\n",
            "\n",
            "평균 근로 장학금 이상을 받은 학생들의 근로 장학금:\n",
            "[300 400 350]\n",
            "학생 수: 3\n"
          ]
        }
      ]
    }
  ]
}