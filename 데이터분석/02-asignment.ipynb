{
  "nbformat": 4,
  "nbformat_minor": 0,
  "metadata": {
    "colab": {
      "provenance": []
    },
    "kernelspec": {
      "name": "python3",
      "display_name": "Python 3"
    },
    "language_info": {
      "name": "python"
    }
  },
  "cells": [
    {
      "cell_type": "markdown",
      "source": [
        "# 2주차 데이터 분석 과제 (3-6~3-9장 실습)\n",
        "\n",
        "**학번** : 2276093\n",
        "\n",
        "**이름** : 김희서\n",
        "\n",
        "**주의사항**\n",
        "해당 과제를 하기 전에 파일 -> Drive에 사본 저장을 클릭하셔서 드라이브에 사본을 저장하신 후 사본에서 과제를 작성해주세요.\n",
        "\n",
        "과제를 하시다가 어려운 점이 생기셨다면, 얼마든지 톡방에 질문 남겨주세요. 멘토들이 답변 드리겠습니다.\n"
      ],
      "metadata": {
        "id": "qSOIexGM4bDj"
      }
    },
    {
      "cell_type": "markdown",
      "source": [
        "# **0. 테스트 문제**"
      ],
      "metadata": {
        "id": "ChJzdfs05FB5"
      }
    },
    {
      "cell_type": "code",
      "source": [
        "# 두 번의 점수를 입력받아 합격 및 불합격 여부를 출력하는 프로그램을 작성하세요.\n",
        "# 조건 : 평균 70점 이상 and 각 점수당 50점 이상\n",
        "# Hint : 입력 -> input() 함수, 출력 -> print() 함수\n",
        "# 조건문 - if elif(여러 개) else 구문\n",
        "\n",
        "score1 = int(input())\n",
        "score2 = int(input())\n",
        "\n",
        "average = (score1 + score2) / 2\n",
        "\n",
        "if score1 >= 50 and score2 >= 50 and average >= 70:\n",
        "    print(\"합격\")\n",
        "else:\n",
        "    print(\"불합격\")\n"
      ],
      "metadata": {
        "id": "Mkhh5GiDE5Z1"
      },
      "execution_count": null,
      "outputs": []
    },
    {
      "cell_type": "markdown",
      "source": [
        "# **1. 실습 문제**"
      ],
      "metadata": {
        "id": "u3h0Ybh95K8b"
      }
    },
    {
      "cell_type": "markdown",
      "source": [
        "3-6"
      ],
      "metadata": {
        "id": "fL9jfJTk5OT9"
      }
    },
    {
      "cell_type": "code",
      "source": [
        "#실습 3-36. 인사말 출력\n",
        "member=input('회원이십니까?(y/n)')\n",
        "if member == 'y':\n",
        "   print('반갑습니다')"
      ],
      "metadata": {
        "id": "O5Ebh3fT61eK"
      },
      "execution_count": null,
      "outputs": []
    },
    {
      "cell_type": "code",
      "source": [
        "#실습 3-37. 안내말 출력\n",
        "member=input('회원이십니까?(y/n)')\n",
        "if member == 'y':\n",
        "   print('반갑습니다')\n",
        "else:\n",
        "  print('회원가입을 해주세요')"
      ],
      "metadata": {
        "id": "dyxTrTVg7AzP"
      },
      "execution_count": null,
      "outputs": []
    },
    {
      "cell_type": "code",
      "source": [
        "#실습 3-38. if~elif 입장료 출력\n",
        "age=int(input('나이 입력'))\n",
        "price=20000\n",
        "\n",
        "if 1<=age<6:\n",
        "  print('입장료는 무료')\n",
        "elif 6<=age<60:\n",
        "  print(f'입장료는 {price}원')\n",
        "elif age>=60:\n",
        "  print(f'입장료는 {price*0.5}원')"
      ],
      "metadata": {
        "id": "JsH6Pp4S7Ey2"
      },
      "execution_count": null,
      "outputs": []
    },
    {
      "cell_type": "code",
      "source": [
        "#실습 3-39. else 인사말 출력\n",
        "age=int(input('나이 입력'))\n",
        "price=20000\n",
        "\n",
        "if 1<=age<6:\n",
        "  print('입장료는 무료')\n",
        "elif 6<=age<60:\n",
        "  print(f'입장료는 {price}원')\n",
        "elif age>=60:\n",
        "  print(f'입장료는 {price*0.5}원')\n",
        "\n",
        "else:\n",
        "  print('1살 이상의 나이를 입력해주세요.')"
      ],
      "metadata": {
        "id": "UA29sydx7Tq3"
      },
      "execution_count": null,
      "outputs": []
    },
    {
      "cell_type": "markdown",
      "source": [
        "3-7"
      ],
      "metadata": {
        "id": "bytAR8qs5ReO"
      }
    },
    {
      "cell_type": "code",
      "source": [
        "#실습 3-40. range() 함수를 이용한 반복 출력\n",
        "for x in range(5):\n",
        "  print('*'*(x+1))"
      ],
      "metadata": {
        "id": "uGnikBEbJQYS",
        "colab": {
          "base_uri": "https://localhost:8080/"
        },
        "outputId": "1743c4e9-37bb-4b37-9949-91a2d682be73"
      },
      "execution_count": 1,
      "outputs": [
        {
          "output_type": "stream",
          "name": "stdout",
          "text": [
            "*\n",
            "**\n",
            "***\n",
            "****\n",
            "*****\n"
          ]
        }
      ]
    },
    {
      "cell_type": "code",
      "source": [
        "#실습 3-41. 리스트를 이용한 반복 출력\n",
        "odd = [1,3,5,7,9]\n",
        "for x in odd:\n",
        "  print(x+1,end=' ')"
      ],
      "metadata": {
        "id": "q23BglIPJQgT",
        "colab": {
          "base_uri": "https://localhost:8080/"
        },
        "outputId": "1c258fab-f75c-41de-efbd-821ff062af3d"
      },
      "execution_count": 3,
      "outputs": [
        {
          "output_type": "stream",
          "name": "stdout",
          "text": [
            "2 4 6 8 10 "
          ]
        }
      ]
    },
    {
      "cell_type": "code",
      "source": [
        "#실습 3-42. 문자열을 이용한 반복 출력\n",
        "for x in '파이썬':\n",
        "  print(x,end=' ')"
      ],
      "metadata": {
        "id": "g6CDI01LJcRL",
        "colab": {
          "base_uri": "https://localhost:8080/"
        },
        "outputId": "be7b2e28-82cf-49dc-8eae-7ffe583f8ff9"
      },
      "execution_count": 4,
      "outputs": [
        {
          "output_type": "stream",
          "name": "stdout",
          "text": [
            "파 이 썬 "
          ]
        }
      ]
    },
    {
      "cell_type": "code",
      "source": [
        "#실습 3-43. while 문을 이용한 반복 출력 (1)\n",
        "year=1\n",
        "while year <=3:\n",
        "  print(f'서당개 {year}년')\n",
        "  year+=1\n",
        "\n",
        "print('풍원을 읊습니다')"
      ],
      "metadata": {
        "id": "sBOFltzOJcYt",
        "colab": {
          "base_uri": "https://localhost:8080/"
        },
        "outputId": "c264c4b1-b3e2-4260-bfa1-fbde0fb8a356"
      },
      "execution_count": 5,
      "outputs": [
        {
          "output_type": "stream",
          "name": "stdout",
          "text": [
            "서당개 1년\n",
            "서당개 2년\n",
            "서당개 3년\n",
            "풍원을 읊습니다\n"
          ]
        }
      ]
    },
    {
      "cell_type": "code",
      "source": [
        "#실습 3-44. while 문을 이용한 반복 출력 (2)\n",
        "result =  None\n",
        "while result!='y':\n",
        "  print('파이썬 좋아!')\n",
        "  result=input('계속하려면 입력:(종료:y)')\n",
        "\n",
        "  print('종료')"
      ],
      "metadata": {
        "id": "OIEpAREcJshh"
      },
      "execution_count": null,
      "outputs": []
    },
    {
      "cell_type": "code",
      "source": [
        "#실습 3-45. 단을 입력받아 구구단 출력\n",
        "num=int(input('단 입력:'))\n",
        "for a in range(1,10):\n",
        "  print(f'{num} x {a} = {num*a}')"
      ],
      "metadata": {
        "id": "dgIzwyeIJslI",
        "colab": {
          "base_uri": "https://localhost:8080/"
        },
        "outputId": "01cf8c03-c8bd-4544-c9ed-d888b1a2a7cb"
      },
      "execution_count": 6,
      "outputs": [
        {
          "output_type": "stream",
          "name": "stdout",
          "text": [
            "단 입력:5\n",
            "5 x 1 = 5\n",
            "5 x 2 = 10\n",
            "5 x 3 = 15\n",
            "5 x 4 = 20\n",
            "5 x 5 = 25\n",
            "5 x 6 = 30\n",
            "5 x 7 = 35\n",
            "5 x 8 = 40\n",
            "5 x 9 = 45\n"
          ]
        }
      ]
    },
    {
      "cell_type": "code",
      "source": [
        "#실습 3-46. 무한 반복 while 문 안에서 break를 이용한 강제 종료\n",
        "while True:\n",
        "  num=int(input('번호 입력(종료0):'))\n",
        "  if num ==0:\n",
        "    break\n",
        "    print('while 무한 루프 반복중')"
      ],
      "metadata": {
        "id": "qyU8AmsEJ-cX"
      },
      "execution_count": null,
      "outputs": []
    },
    {
      "cell_type": "code",
      "source": [
        "#실습 3-47. 1~30 사이의 정수 중에서 7의 배수 출력\n",
        "for x in range(1,31):\n",
        "  if x%7==0:\n",
        "    print(f'7의 배수:{x}')"
      ],
      "metadata": {
        "id": "e5AthQA3J-fe",
        "colab": {
          "base_uri": "https://localhost:8080/"
        },
        "outputId": "c974df83-929b-49b1-db61-aeae979497f0"
      },
      "execution_count": 7,
      "outputs": [
        {
          "output_type": "stream",
          "name": "stdout",
          "text": [
            "7의 배수:7\n",
            "7의 배수:14\n",
            "7의 배수:21\n",
            "7의 배수:28\n"
          ]
        }
      ]
    },
    {
      "cell_type": "code",
      "source": [
        "#실습 3-48. pass 사용 형태\n",
        "for x in range(10):\n",
        "  pass"
      ],
      "metadata": {
        "id": "YkxxSNvOJ-jJ"
      },
      "execution_count": null,
      "outputs": []
    },
    {
      "cell_type": "code",
      "source": [
        "#실습 3-49. 0을 입력하기 전까지 단을 입력받아 구구단 출력\n",
        "while True:\n",
        "  num=int(input('단 입력(종료:0):'))\n",
        "  if num==0:\n",
        "    break\n",
        "  a=1\n",
        "  while a<=9:\n",
        "    print(f'{num} x {a} = {num*a}')\n",
        "    a+=1\n",
        "print('구구단 프로그램 종료')"
      ],
      "metadata": {
        "id": "M8ONEtb2KQbI",
        "colab": {
          "base_uri": "https://localhost:8080/"
        },
        "outputId": "3e2ce1e5-7fec-49bf-da62-a89e3b6a9e22"
      },
      "execution_count": 10,
      "outputs": [
        {
          "output_type": "stream",
          "name": "stdout",
          "text": [
            "단 입력(종료:0):3\n",
            "3 x 1 = 3\n",
            "3 x 2 = 6\n",
            "3 x 3 = 9\n",
            "3 x 4 = 12\n",
            "3 x 5 = 15\n",
            "3 x 6 = 18\n",
            "3 x 7 = 21\n",
            "3 x 8 = 24\n",
            "3 x 9 = 27\n",
            "단 입력(종료:0):5\n",
            "5 x 1 = 5\n",
            "5 x 2 = 10\n",
            "5 x 3 = 15\n",
            "5 x 4 = 20\n",
            "5 x 5 = 25\n",
            "5 x 6 = 30\n",
            "5 x 7 = 35\n",
            "5 x 8 = 40\n",
            "5 x 9 = 45\n",
            "단 입력(종료:0):0\n",
            "구구단 프로그램 종료\n"
          ]
        }
      ]
    },
    {
      "cell_type": "code",
      "source": [
        "#실습 3-50. 김밥 배합 출력\n",
        "main=['베이컨','크레미']\n",
        "side=['당근','오이']\n",
        "x=1\n",
        "for m in main:\n",
        "  for s in side:\n",
        "    print(f'{x}: {m}+{s}+계란')\n",
        "    x+=1"
      ],
      "metadata": {
        "id": "jkQTv5xEKQfA",
        "colab": {
          "base_uri": "https://localhost:8080/"
        },
        "outputId": "3d9cb434-2a41-4ef9-ce55-cbe68804fd48"
      },
      "execution_count": 12,
      "outputs": [
        {
          "output_type": "stream",
          "name": "stdout",
          "text": [
            "1: 베이컨+당근+계란\n",
            "2: 베이컨+오이+계란\n",
            "3: 크레미+당근+계란\n",
            "4: 크레미+오이+계란\n"
          ]
        }
      ]
    },
    {
      "cell_type": "markdown",
      "source": [
        "3-8"
      ],
      "metadata": {
        "id": "t_hy1-g85SMJ"
      }
    },
    {
      "cell_type": "code",
      "source": [
        "#실습 3-51. 두 개의 수를 입력받아 큰 수 결정하는 함수의 예\n",
        "def max1(num1,num2):\n",
        "  if num1>num2:\n",
        "    return num1\n",
        "  else:\n",
        "    return num2\n",
        "a=int(input('숫자1: '))\n",
        "b=int(input('숫자2: '))\n",
        "print(f'큰수: {max1(a,b)}')"
      ],
      "metadata": {
        "id": "NBIo16gW7yb0",
        "colab": {
          "base_uri": "https://localhost:8080/"
        },
        "outputId": "393e59ba-2827-4217-b5c1-9a56a628755f"
      },
      "execution_count": 13,
      "outputs": [
        {
          "output_type": "stream",
          "name": "stdout",
          "text": [
            "숫자1: 5\n",
            "숫자2: 2\n",
            "큰수: 5\n"
          ]
        }
      ]
    },
    {
      "cell_type": "code",
      "source": [
        "#실습 3-52. 함수를 활용한 3,6,9 게임 예\n",
        "def game(num):\n",
        "  a=num//10\n",
        "  b=num%10\n",
        "  if a==3 or a==6 or a==9:\n",
        "    return '통과'\n",
        "  elif b==3 or b==6 or b==9:\n",
        "    return '통과'\n",
        "  else:\n",
        "    return '다음 수'\n",
        "\n",
        "num=int(input('숫자: '))\n",
        "print(game(num))"
      ],
      "metadata": {
        "id": "bHpovSSn9cFY",
        "colab": {
          "base_uri": "https://localhost:8080/"
        },
        "outputId": "4fec81d7-5430-48ec-8eaa-a7d5b9f6b7bb"
      },
      "execution_count": 15,
      "outputs": [
        {
          "output_type": "stream",
          "name": "stdout",
          "text": [
            "숫자: 11\n",
            "다음 수\n"
          ]
        }
      ]
    },
    {
      "cell_type": "markdown",
      "source": [
        "3-9"
      ],
      "metadata": {
        "id": "xCHC878V5S5G"
      }
    },
    {
      "cell_type": "code",
      "source": [
        "#실습 3-53. 파일 읽기: read() 함수\n",
        "f=open('name.txt')\n",
        "data=f.read()\n",
        "print(data)\n",
        "f.close"
      ],
      "metadata": {
        "id": "VPcDdxRe9cID"
      },
      "execution_count": null,
      "outputs": []
    },
    {
      "cell_type": "code",
      "source": [
        "#실습 3-54. 파일 읽기: readline() 함수(1)\n",
        "f=open('name.txt')\n",
        "data=f.readline()\n",
        "print(data)\n",
        "f.close"
      ],
      "metadata": {
        "id": "c-faBVEJ9cKS",
        "colab": {
          "base_uri": "https://localhost:8080/",
          "height": 344
        },
        "outputId": "fb4c8515-0f27-4bb7-f196-296c64663c9f"
      },
      "execution_count": 18,
      "outputs": [
        {
          "output_type": "error",
          "ename": "UnicodeDecodeError",
          "evalue": "'utf-8' codec can't decode byte 0xb1 in position 2: invalid start byte",
          "traceback": [
            "\u001b[0;31m---------------------------------------------------------------------------\u001b[0m",
            "\u001b[0;31mUnicodeDecodeError\u001b[0m                        Traceback (most recent call last)",
            "\u001b[0;32m<ipython-input-18-ba5f499804c9>\u001b[0m in \u001b[0;36m<cell line: 3>\u001b[0;34m()\u001b[0m\n\u001b[1;32m      1\u001b[0m \u001b[0;31m#실습 3-54. 파일 읽기: readline() 함수(1)\u001b[0m\u001b[0;34m\u001b[0m\u001b[0;34m\u001b[0m\u001b[0m\n\u001b[1;32m      2\u001b[0m \u001b[0mf\u001b[0m\u001b[0;34m=\u001b[0m\u001b[0mopen\u001b[0m\u001b[0;34m(\u001b[0m\u001b[0;34m'name.txt'\u001b[0m\u001b[0;34m)\u001b[0m\u001b[0;34m\u001b[0m\u001b[0;34m\u001b[0m\u001b[0m\n\u001b[0;32m----> 3\u001b[0;31m \u001b[0mdata\u001b[0m\u001b[0;34m=\u001b[0m\u001b[0mf\u001b[0m\u001b[0;34m.\u001b[0m\u001b[0mreadline\u001b[0m\u001b[0;34m(\u001b[0m\u001b[0;34m)\u001b[0m\u001b[0;34m\u001b[0m\u001b[0;34m\u001b[0m\u001b[0m\n\u001b[0m\u001b[1;32m      4\u001b[0m \u001b[0mprint\u001b[0m\u001b[0;34m(\u001b[0m\u001b[0mdata\u001b[0m\u001b[0;34m)\u001b[0m\u001b[0;34m\u001b[0m\u001b[0;34m\u001b[0m\u001b[0m\n\u001b[1;32m      5\u001b[0m \u001b[0mf\u001b[0m\u001b[0;34m.\u001b[0m\u001b[0mclose\u001b[0m\u001b[0;34m\u001b[0m\u001b[0;34m\u001b[0m\u001b[0m\n",
            "\u001b[0;32m/usr/lib/python3.10/codecs.py\u001b[0m in \u001b[0;36mdecode\u001b[0;34m(self, input, final)\u001b[0m\n\u001b[1;32m    320\u001b[0m         \u001b[0;31m# decode input (taking the buffer into account)\u001b[0m\u001b[0;34m\u001b[0m\u001b[0;34m\u001b[0m\u001b[0m\n\u001b[1;32m    321\u001b[0m         \u001b[0mdata\u001b[0m \u001b[0;34m=\u001b[0m \u001b[0mself\u001b[0m\u001b[0;34m.\u001b[0m\u001b[0mbuffer\u001b[0m \u001b[0;34m+\u001b[0m \u001b[0minput\u001b[0m\u001b[0;34m\u001b[0m\u001b[0;34m\u001b[0m\u001b[0m\n\u001b[0;32m--> 322\u001b[0;31m         \u001b[0;34m(\u001b[0m\u001b[0mresult\u001b[0m\u001b[0;34m,\u001b[0m \u001b[0mconsumed\u001b[0m\u001b[0;34m)\u001b[0m \u001b[0;34m=\u001b[0m \u001b[0mself\u001b[0m\u001b[0;34m.\u001b[0m\u001b[0m_buffer_decode\u001b[0m\u001b[0;34m(\u001b[0m\u001b[0mdata\u001b[0m\u001b[0;34m,\u001b[0m \u001b[0mself\u001b[0m\u001b[0;34m.\u001b[0m\u001b[0merrors\u001b[0m\u001b[0;34m,\u001b[0m \u001b[0mfinal\u001b[0m\u001b[0;34m)\u001b[0m\u001b[0;34m\u001b[0m\u001b[0;34m\u001b[0m\u001b[0m\n\u001b[0m\u001b[1;32m    323\u001b[0m         \u001b[0;31m# keep undecoded input until the next call\u001b[0m\u001b[0;34m\u001b[0m\u001b[0;34m\u001b[0m\u001b[0m\n\u001b[1;32m    324\u001b[0m         \u001b[0mself\u001b[0m\u001b[0;34m.\u001b[0m\u001b[0mbuffer\u001b[0m \u001b[0;34m=\u001b[0m \u001b[0mdata\u001b[0m\u001b[0;34m[\u001b[0m\u001b[0mconsumed\u001b[0m\u001b[0;34m:\u001b[0m\u001b[0;34m]\u001b[0m\u001b[0;34m\u001b[0m\u001b[0;34m\u001b[0m\u001b[0m\n",
            "\u001b[0;31mUnicodeDecodeError\u001b[0m: 'utf-8' codec can't decode byte 0xb1 in position 2: invalid start byte"
          ]
        }
      ]
    },
    {
      "cell_type": "code",
      "source": [
        "#실습 3-55. 파일 읽기: readline() 함수(2)\n",
        "f=open('name.txt')\n",
        "while True:\n",
        "  data=f.readline()\n",
        "  if not data:break\n",
        "  print(data,end=' ')\n",
        "f.close"
      ],
      "metadata": {
        "id": "NrD17gVH9cMb",
        "colab": {
          "base_uri": "https://localhost:8080/",
          "height": 344
        },
        "outputId": "25e15ea8-f2f4-4341-9046-4869d4aa53b7"
      },
      "execution_count": 17,
      "outputs": [
        {
          "output_type": "error",
          "ename": "UnicodeDecodeError",
          "evalue": "'utf-8' codec can't decode byte 0xb1 in position 2: invalid start byte",
          "traceback": [
            "\u001b[0;31m---------------------------------------------------------------------------\u001b[0m",
            "\u001b[0;31mUnicodeDecodeError\u001b[0m                        Traceback (most recent call last)",
            "\u001b[0;32m<ipython-input-17-6e75929bf362>\u001b[0m in \u001b[0;36m<cell line: 3>\u001b[0;34m()\u001b[0m\n\u001b[1;32m      2\u001b[0m \u001b[0mf\u001b[0m\u001b[0;34m=\u001b[0m\u001b[0mopen\u001b[0m\u001b[0;34m(\u001b[0m\u001b[0;34m'name.txt'\u001b[0m\u001b[0;34m)\u001b[0m\u001b[0;34m\u001b[0m\u001b[0;34m\u001b[0m\u001b[0m\n\u001b[1;32m      3\u001b[0m \u001b[0;32mwhile\u001b[0m \u001b[0;32mTrue\u001b[0m\u001b[0;34m:\u001b[0m\u001b[0;34m\u001b[0m\u001b[0;34m\u001b[0m\u001b[0m\n\u001b[0;32m----> 4\u001b[0;31m   \u001b[0mdata\u001b[0m\u001b[0;34m=\u001b[0m\u001b[0mf\u001b[0m\u001b[0;34m.\u001b[0m\u001b[0mreadline\u001b[0m\u001b[0;34m(\u001b[0m\u001b[0;34m)\u001b[0m\u001b[0;34m\u001b[0m\u001b[0;34m\u001b[0m\u001b[0m\n\u001b[0m\u001b[1;32m      5\u001b[0m   \u001b[0;32mif\u001b[0m \u001b[0;32mnot\u001b[0m \u001b[0mdata\u001b[0m\u001b[0;34m:\u001b[0m\u001b[0;32mbreak\u001b[0m\u001b[0;34m\u001b[0m\u001b[0;34m\u001b[0m\u001b[0m\n\u001b[1;32m      6\u001b[0m   \u001b[0mprint\u001b[0m\u001b[0;34m(\u001b[0m\u001b[0mdata\u001b[0m\u001b[0;34m,\u001b[0m\u001b[0mend\u001b[0m\u001b[0;34m=\u001b[0m\u001b[0;34m' '\u001b[0m\u001b[0;34m)\u001b[0m\u001b[0;34m\u001b[0m\u001b[0;34m\u001b[0m\u001b[0m\n",
            "\u001b[0;32m/usr/lib/python3.10/codecs.py\u001b[0m in \u001b[0;36mdecode\u001b[0;34m(self, input, final)\u001b[0m\n\u001b[1;32m    320\u001b[0m         \u001b[0;31m# decode input (taking the buffer into account)\u001b[0m\u001b[0;34m\u001b[0m\u001b[0;34m\u001b[0m\u001b[0m\n\u001b[1;32m    321\u001b[0m         \u001b[0mdata\u001b[0m \u001b[0;34m=\u001b[0m \u001b[0mself\u001b[0m\u001b[0;34m.\u001b[0m\u001b[0mbuffer\u001b[0m \u001b[0;34m+\u001b[0m \u001b[0minput\u001b[0m\u001b[0;34m\u001b[0m\u001b[0;34m\u001b[0m\u001b[0m\n\u001b[0;32m--> 322\u001b[0;31m         \u001b[0;34m(\u001b[0m\u001b[0mresult\u001b[0m\u001b[0;34m,\u001b[0m \u001b[0mconsumed\u001b[0m\u001b[0;34m)\u001b[0m \u001b[0;34m=\u001b[0m \u001b[0mself\u001b[0m\u001b[0;34m.\u001b[0m\u001b[0m_buffer_decode\u001b[0m\u001b[0;34m(\u001b[0m\u001b[0mdata\u001b[0m\u001b[0;34m,\u001b[0m \u001b[0mself\u001b[0m\u001b[0;34m.\u001b[0m\u001b[0merrors\u001b[0m\u001b[0;34m,\u001b[0m \u001b[0mfinal\u001b[0m\u001b[0;34m)\u001b[0m\u001b[0;34m\u001b[0m\u001b[0;34m\u001b[0m\u001b[0m\n\u001b[0m\u001b[1;32m    323\u001b[0m         \u001b[0;31m# keep undecoded input until the next call\u001b[0m\u001b[0;34m\u001b[0m\u001b[0;34m\u001b[0m\u001b[0m\n\u001b[1;32m    324\u001b[0m         \u001b[0mself\u001b[0m\u001b[0;34m.\u001b[0m\u001b[0mbuffer\u001b[0m \u001b[0;34m=\u001b[0m \u001b[0mdata\u001b[0m\u001b[0;34m[\u001b[0m\u001b[0mconsumed\u001b[0m\u001b[0;34m:\u001b[0m\u001b[0;34m]\u001b[0m\u001b[0;34m\u001b[0m\u001b[0;34m\u001b[0m\u001b[0m\n",
            "\u001b[0;31mUnicodeDecodeError\u001b[0m: 'utf-8' codec can't decode byte 0xb1 in position 2: invalid start byte"
          ]
        }
      ]
    },
    {
      "cell_type": "code",
      "source": [
        "#실습 3-56. 파일 읽기: readlines() 함수(1)\n",
        "f=open('name.txt')\n",
        "data=f.readlines()\n",
        "print(data, end='')\n",
        "f.close"
      ],
      "metadata": {
        "id": "Li-0uhtr9cOb"
      },
      "execution_count": null,
      "outputs": []
    },
    {
      "cell_type": "code",
      "source": [
        "#실습 3-57. 파일 읽기: readlines() 함수(2)\n",
        "f=open('name.txt')\n",
        "data=f.readlines()\n",
        "for line in data:\n",
        "  print(line,end='')\n",
        "f.close"
      ],
      "metadata": {
        "id": "jGQ_e5l59cQk"
      },
      "execution_count": null,
      "outputs": []
    },
    {
      "cell_type": "code",
      "source": [
        "#실습 3-58. 파일 쓰기 모드: write() 함수\n",
        "f=open('club.txt','w')\n",
        "\n",
        "while True:\n",
        "  name=input('이름: ')\n",
        "  if not name:\n",
        "    break\n",
        "  f.write(name)\n",
        "f.close"
      ],
      "metadata": {
        "id": "IAblbIvz99at"
      },
      "execution_count": null,
      "outputs": []
    },
    {
      "cell_type": "code",
      "source": [
        "#실습 3-59. 파일 추가 모드: write() 함수\n",
        "f=open('club.txt','a')\n",
        "\n",
        "while True:\n",
        "  name=input('이름: ')\n",
        "  if not name:\n",
        "    break\n",
        "  f.write(name+'\\n')\n",
        "f.close"
      ],
      "metadata": {
        "id": "Qm6IRzOD99c4"
      },
      "execution_count": null,
      "outputs": []
    },
    {
      "cell_type": "code",
      "source": [
        "#실습 3-61. 파일 오류 처리: os.path.exists() 사용\n",
        "import os.path\n",
        "\n",
        "fname=input('파일명: ')\n",
        "fname=fname+'.txt'\n",
        "if os.path.exists(fname):# os.path.isfile(fname)\n",
        "  f=open(fname,'r')\n",
        "  data=f.read()\n",
        "  print(data,end='')\n",
        "  f.close()\n",
        "else:\n",
        "  print('{} 파일이 없습니다.'.format(fname))"
      ],
      "metadata": {
        "id": "kkzBf4U-99fE"
      },
      "execution_count": null,
      "outputs": []
    },
    {
      "cell_type": "code",
      "source": [
        "#실습 3-62. 파일 오류 처리: try ~ except 사용\n",
        "fname=input('파일명: ')\n",
        "fname=fname+'.txt'\n",
        "try:\n",
        "  f=open(fname,'r')\n",
        "  data=f.read()\n",
        "  print(data,end='')\n",
        "  f.close()\n",
        "except:\n",
        "  print('{} 파일이 없습니다.'.format(fname))"
      ],
      "metadata": {
        "id": "2MeAomPg-RqR"
      },
      "execution_count": null,
      "outputs": []
    },
    {
      "cell_type": "code",
      "source": [
        "#실습 3-63. csv 파일을 읽어 데이터프레임으로 저장하여 확인\n",
        "import pandas as pd\n",
        "my_file=pd.read_csv('my_file.csv')\n",
        "my_file.head()"
      ],
      "metadata": {
        "id": "6yjU6SAl-Rs3"
      },
      "execution_count": null,
      "outputs": []
    },
    {
      "cell_type": "code",
      "source": [
        "#실습 3-64. 데이터프레임 데이터 생성\n",
        "new_pd=pd.DataFrame([['루비',80,80,75,90,'B+',0]])\n",
        "new_pd"
      ],
      "metadata": {
        "id": "ZT9BEgmF-h-i",
        "colab": {
          "base_uri": "https://localhost:8080/",
          "height": 182
        },
        "outputId": "5593b520-646a-4cdb-dee5-b1cf4d2cdb09"
      },
      "execution_count": 1,
      "outputs": [
        {
          "output_type": "error",
          "ename": "NameError",
          "evalue": "name 'pd' is not defined",
          "traceback": [
            "\u001b[0;31m---------------------------------------------------------------------------\u001b[0m",
            "\u001b[0;31mNameError\u001b[0m                                 Traceback (most recent call last)",
            "\u001b[0;32m<ipython-input-1-0e250b54d7e1>\u001b[0m in \u001b[0;36m<cell line: 2>\u001b[0;34m()\u001b[0m\n\u001b[1;32m      1\u001b[0m \u001b[0;31m#실습 3-64. 데이터프레임 데이터 생성\u001b[0m\u001b[0;34m\u001b[0m\u001b[0;34m\u001b[0m\u001b[0m\n\u001b[0;32m----> 2\u001b[0;31m \u001b[0mnew_pd\u001b[0m\u001b[0;34m=\u001b[0m\u001b[0mpd\u001b[0m\u001b[0;34m.\u001b[0m\u001b[0mDataFrame\u001b[0m\u001b[0;34m(\u001b[0m\u001b[0;34m[\u001b[0m\u001b[0;34m[\u001b[0m\u001b[0;34m'루비'\u001b[0m\u001b[0;34m,\u001b[0m\u001b[0;36m80\u001b[0m\u001b[0;34m,\u001b[0m\u001b[0;36m80\u001b[0m\u001b[0;34m,\u001b[0m\u001b[0;36m75\u001b[0m\u001b[0;34m,\u001b[0m\u001b[0;36m90\u001b[0m\u001b[0;34m,\u001b[0m\u001b[0;34m'B+'\u001b[0m\u001b[0;34m,\u001b[0m\u001b[0;36m0\u001b[0m\u001b[0;34m]\u001b[0m\u001b[0;34m]\u001b[0m\u001b[0;34m)\u001b[0m\u001b[0;34m\u001b[0m\u001b[0;34m\u001b[0m\u001b[0m\n\u001b[0m\u001b[1;32m      3\u001b[0m \u001b[0mnew_pd\u001b[0m\u001b[0;34m\u001b[0m\u001b[0;34m\u001b[0m\u001b[0m\n",
            "\u001b[0;31mNameError\u001b[0m: name 'pd' is not defined"
          ]
        }
      ]
    },
    {
      "cell_type": "code",
      "source": [
        "#실습 3-65. 새롭게 생성한 데이터프레임 데이터를 csv 파일에 저장\n",
        "new_pd.to_csv('my_file.csv',mode='a',header=False, index=False)\n",
        "my_file=pd.csv('my_file.csv')\n",
        "my_file.head()"
      ],
      "metadata": {
        "id": "DA1iAwxc-iA3"
      },
      "execution_count": null,
      "outputs": []
    },
    {
      "cell_type": "code",
      "source": [
        "#실습 3-66. xlsx 파일을 읽어 데이터프레임으로 저장하여 확인\n",
        "import pandas as pd\n",
        "my_addr=pd.read_excel('my_addr.xlsx')\n",
        "my_addr.head()"
      ],
      "metadata": {
        "id": "H1oOm3U9-iC6",
        "colab": {
          "base_uri": "https://localhost:8080/",
          "height": 368
        },
        "outputId": "5ff09855-ec91-4bf4-c616-ee3d98b90fd4"
      },
      "execution_count": 3,
      "outputs": [
        {
          "output_type": "error",
          "ename": "FileNotFoundError",
          "evalue": "[Errno 2] No such file or directory: 'my_addr.xlsx'",
          "traceback": [
            "\u001b[0;31m---------------------------------------------------------------------------\u001b[0m",
            "\u001b[0;31mFileNotFoundError\u001b[0m                         Traceback (most recent call last)",
            "\u001b[0;32m<ipython-input-3-41efd5557e44>\u001b[0m in \u001b[0;36m<cell line: 3>\u001b[0;34m()\u001b[0m\n\u001b[1;32m      1\u001b[0m \u001b[0;31m#실습 3-66. xlsx 파일을 읽어 데이터프레임으로 저장하여 확인\u001b[0m\u001b[0;34m\u001b[0m\u001b[0;34m\u001b[0m\u001b[0m\n\u001b[1;32m      2\u001b[0m \u001b[0;32mimport\u001b[0m \u001b[0mpandas\u001b[0m \u001b[0;32mas\u001b[0m \u001b[0mpd\u001b[0m\u001b[0;34m\u001b[0m\u001b[0;34m\u001b[0m\u001b[0m\n\u001b[0;32m----> 3\u001b[0;31m \u001b[0mmy_addr\u001b[0m\u001b[0;34m=\u001b[0m\u001b[0mpd\u001b[0m\u001b[0;34m.\u001b[0m\u001b[0mread_excel\u001b[0m\u001b[0;34m(\u001b[0m\u001b[0;34m'my_addr.xlsx'\u001b[0m\u001b[0;34m)\u001b[0m\u001b[0;34m\u001b[0m\u001b[0;34m\u001b[0m\u001b[0m\n\u001b[0m\u001b[1;32m      4\u001b[0m \u001b[0mmy_addr\u001b[0m\u001b[0;34m.\u001b[0m\u001b[0mhead\u001b[0m\u001b[0;34m(\u001b[0m\u001b[0;34m)\u001b[0m\u001b[0;34m\u001b[0m\u001b[0;34m\u001b[0m\u001b[0m\n",
            "\u001b[0;32m/usr/local/lib/python3.10/dist-packages/pandas/util/_decorators.py\u001b[0m in \u001b[0;36mwrapper\u001b[0;34m(*args, **kwargs)\u001b[0m\n\u001b[1;32m    209\u001b[0m                 \u001b[0;32melse\u001b[0m\u001b[0;34m:\u001b[0m\u001b[0;34m\u001b[0m\u001b[0;34m\u001b[0m\u001b[0m\n\u001b[1;32m    210\u001b[0m                     \u001b[0mkwargs\u001b[0m\u001b[0;34m[\u001b[0m\u001b[0mnew_arg_name\u001b[0m\u001b[0;34m]\u001b[0m \u001b[0;34m=\u001b[0m \u001b[0mnew_arg_value\u001b[0m\u001b[0;34m\u001b[0m\u001b[0;34m\u001b[0m\u001b[0m\n\u001b[0;32m--> 211\u001b[0;31m             \u001b[0;32mreturn\u001b[0m \u001b[0mfunc\u001b[0m\u001b[0;34m(\u001b[0m\u001b[0;34m*\u001b[0m\u001b[0margs\u001b[0m\u001b[0;34m,\u001b[0m \u001b[0;34m**\u001b[0m\u001b[0mkwargs\u001b[0m\u001b[0;34m)\u001b[0m\u001b[0;34m\u001b[0m\u001b[0;34m\u001b[0m\u001b[0m\n\u001b[0m\u001b[1;32m    212\u001b[0m \u001b[0;34m\u001b[0m\u001b[0m\n\u001b[1;32m    213\u001b[0m         \u001b[0;32mreturn\u001b[0m \u001b[0mcast\u001b[0m\u001b[0;34m(\u001b[0m\u001b[0mF\u001b[0m\u001b[0;34m,\u001b[0m \u001b[0mwrapper\u001b[0m\u001b[0;34m)\u001b[0m\u001b[0;34m\u001b[0m\u001b[0;34m\u001b[0m\u001b[0m\n",
            "\u001b[0;32m/usr/local/lib/python3.10/dist-packages/pandas/util/_decorators.py\u001b[0m in \u001b[0;36mwrapper\u001b[0;34m(*args, **kwargs)\u001b[0m\n\u001b[1;32m    329\u001b[0m                     \u001b[0mstacklevel\u001b[0m\u001b[0;34m=\u001b[0m\u001b[0mfind_stack_level\u001b[0m\u001b[0;34m(\u001b[0m\u001b[0;34m)\u001b[0m\u001b[0;34m,\u001b[0m\u001b[0;34m\u001b[0m\u001b[0;34m\u001b[0m\u001b[0m\n\u001b[1;32m    330\u001b[0m                 )\n\u001b[0;32m--> 331\u001b[0;31m             \u001b[0;32mreturn\u001b[0m \u001b[0mfunc\u001b[0m\u001b[0;34m(\u001b[0m\u001b[0;34m*\u001b[0m\u001b[0margs\u001b[0m\u001b[0;34m,\u001b[0m \u001b[0;34m**\u001b[0m\u001b[0mkwargs\u001b[0m\u001b[0;34m)\u001b[0m\u001b[0;34m\u001b[0m\u001b[0;34m\u001b[0m\u001b[0m\n\u001b[0m\u001b[1;32m    332\u001b[0m \u001b[0;34m\u001b[0m\u001b[0m\n\u001b[1;32m    333\u001b[0m         \u001b[0;31m# error: \"Callable[[VarArg(Any), KwArg(Any)], Any]\" has no\u001b[0m\u001b[0;34m\u001b[0m\u001b[0;34m\u001b[0m\u001b[0m\n",
            "\u001b[0;32m/usr/local/lib/python3.10/dist-packages/pandas/io/excel/_base.py\u001b[0m in \u001b[0;36mread_excel\u001b[0;34m(io, sheet_name, header, names, index_col, usecols, squeeze, dtype, engine, converters, true_values, false_values, skiprows, nrows, na_values, keep_default_na, na_filter, verbose, parse_dates, date_parser, thousands, decimal, comment, skipfooter, convert_float, mangle_dupe_cols, storage_options)\u001b[0m\n\u001b[1;32m    480\u001b[0m     \u001b[0;32mif\u001b[0m \u001b[0;32mnot\u001b[0m \u001b[0misinstance\u001b[0m\u001b[0;34m(\u001b[0m\u001b[0mio\u001b[0m\u001b[0;34m,\u001b[0m \u001b[0mExcelFile\u001b[0m\u001b[0;34m)\u001b[0m\u001b[0;34m:\u001b[0m\u001b[0;34m\u001b[0m\u001b[0;34m\u001b[0m\u001b[0m\n\u001b[1;32m    481\u001b[0m         \u001b[0mshould_close\u001b[0m \u001b[0;34m=\u001b[0m \u001b[0;32mTrue\u001b[0m\u001b[0;34m\u001b[0m\u001b[0;34m\u001b[0m\u001b[0m\n\u001b[0;32m--> 482\u001b[0;31m         \u001b[0mio\u001b[0m \u001b[0;34m=\u001b[0m \u001b[0mExcelFile\u001b[0m\u001b[0;34m(\u001b[0m\u001b[0mio\u001b[0m\u001b[0;34m,\u001b[0m \u001b[0mstorage_options\u001b[0m\u001b[0;34m=\u001b[0m\u001b[0mstorage_options\u001b[0m\u001b[0;34m,\u001b[0m \u001b[0mengine\u001b[0m\u001b[0;34m=\u001b[0m\u001b[0mengine\u001b[0m\u001b[0;34m)\u001b[0m\u001b[0;34m\u001b[0m\u001b[0;34m\u001b[0m\u001b[0m\n\u001b[0m\u001b[1;32m    483\u001b[0m     \u001b[0;32melif\u001b[0m \u001b[0mengine\u001b[0m \u001b[0;32mand\u001b[0m \u001b[0mengine\u001b[0m \u001b[0;34m!=\u001b[0m \u001b[0mio\u001b[0m\u001b[0;34m.\u001b[0m\u001b[0mengine\u001b[0m\u001b[0;34m:\u001b[0m\u001b[0;34m\u001b[0m\u001b[0;34m\u001b[0m\u001b[0m\n\u001b[1;32m    484\u001b[0m         raise ValueError(\n",
            "\u001b[0;32m/usr/local/lib/python3.10/dist-packages/pandas/io/excel/_base.py\u001b[0m in \u001b[0;36m__init__\u001b[0;34m(self, path_or_buffer, engine, storage_options)\u001b[0m\n\u001b[1;32m   1650\u001b[0m                 \u001b[0mext\u001b[0m \u001b[0;34m=\u001b[0m \u001b[0;34m\"xls\"\u001b[0m\u001b[0;34m\u001b[0m\u001b[0;34m\u001b[0m\u001b[0m\n\u001b[1;32m   1651\u001b[0m             \u001b[0;32melse\u001b[0m\u001b[0;34m:\u001b[0m\u001b[0;34m\u001b[0m\u001b[0;34m\u001b[0m\u001b[0m\n\u001b[0;32m-> 1652\u001b[0;31m                 ext = inspect_excel_format(\n\u001b[0m\u001b[1;32m   1653\u001b[0m                     \u001b[0mcontent_or_path\u001b[0m\u001b[0;34m=\u001b[0m\u001b[0mpath_or_buffer\u001b[0m\u001b[0;34m,\u001b[0m \u001b[0mstorage_options\u001b[0m\u001b[0;34m=\u001b[0m\u001b[0mstorage_options\u001b[0m\u001b[0;34m\u001b[0m\u001b[0;34m\u001b[0m\u001b[0m\n\u001b[1;32m   1654\u001b[0m                 )\n",
            "\u001b[0;32m/usr/local/lib/python3.10/dist-packages/pandas/io/excel/_base.py\u001b[0m in \u001b[0;36minspect_excel_format\u001b[0;34m(content_or_path, storage_options)\u001b[0m\n\u001b[1;32m   1523\u001b[0m         \u001b[0mcontent_or_path\u001b[0m \u001b[0;34m=\u001b[0m \u001b[0mBytesIO\u001b[0m\u001b[0;34m(\u001b[0m\u001b[0mcontent_or_path\u001b[0m\u001b[0;34m)\u001b[0m\u001b[0;34m\u001b[0m\u001b[0;34m\u001b[0m\u001b[0m\n\u001b[1;32m   1524\u001b[0m \u001b[0;34m\u001b[0m\u001b[0m\n\u001b[0;32m-> 1525\u001b[0;31m     with get_handle(\n\u001b[0m\u001b[1;32m   1526\u001b[0m         \u001b[0mcontent_or_path\u001b[0m\u001b[0;34m,\u001b[0m \u001b[0;34m\"rb\"\u001b[0m\u001b[0;34m,\u001b[0m \u001b[0mstorage_options\u001b[0m\u001b[0;34m=\u001b[0m\u001b[0mstorage_options\u001b[0m\u001b[0;34m,\u001b[0m \u001b[0mis_text\u001b[0m\u001b[0;34m=\u001b[0m\u001b[0;32mFalse\u001b[0m\u001b[0;34m\u001b[0m\u001b[0;34m\u001b[0m\u001b[0m\n\u001b[1;32m   1527\u001b[0m     ) as handle:\n",
            "\u001b[0;32m/usr/local/lib/python3.10/dist-packages/pandas/io/common.py\u001b[0m in \u001b[0;36mget_handle\u001b[0;34m(path_or_buf, mode, encoding, compression, memory_map, is_text, errors, storage_options)\u001b[0m\n\u001b[1;32m    863\u001b[0m         \u001b[0;32melse\u001b[0m\u001b[0;34m:\u001b[0m\u001b[0;34m\u001b[0m\u001b[0;34m\u001b[0m\u001b[0m\n\u001b[1;32m    864\u001b[0m             \u001b[0;31m# Binary mode\u001b[0m\u001b[0;34m\u001b[0m\u001b[0;34m\u001b[0m\u001b[0m\n\u001b[0;32m--> 865\u001b[0;31m             \u001b[0mhandle\u001b[0m \u001b[0;34m=\u001b[0m \u001b[0mopen\u001b[0m\u001b[0;34m(\u001b[0m\u001b[0mhandle\u001b[0m\u001b[0;34m,\u001b[0m \u001b[0mioargs\u001b[0m\u001b[0;34m.\u001b[0m\u001b[0mmode\u001b[0m\u001b[0;34m)\u001b[0m\u001b[0;34m\u001b[0m\u001b[0;34m\u001b[0m\u001b[0m\n\u001b[0m\u001b[1;32m    866\u001b[0m         \u001b[0mhandles\u001b[0m\u001b[0;34m.\u001b[0m\u001b[0mappend\u001b[0m\u001b[0;34m(\u001b[0m\u001b[0mhandle\u001b[0m\u001b[0;34m)\u001b[0m\u001b[0;34m\u001b[0m\u001b[0;34m\u001b[0m\u001b[0m\n\u001b[1;32m    867\u001b[0m \u001b[0;34m\u001b[0m\u001b[0m\n",
            "\u001b[0;31mFileNotFoundError\u001b[0m: [Errno 2] No such file or directory: 'my_addr.xlsx'"
          ]
        }
      ]
    },
    {
      "cell_type": "code",
      "source": [
        "#실습 3-67. 데이터프레임 데이털르 생성하여 기존 데이터프레임에 추가\n",
        "my_addr=my_addr.append([{'이름':'유관순','연락처':'010-3333-3333','이메일':'you@test.com'}])\n",
        "my_addr"
      ],
      "metadata": {
        "id": "erU800P_-tI1"
      },
      "execution_count": null,
      "outputs": []
    },
    {
      "cell_type": "code",
      "source": [
        "#실습 3-68. 하나로 합쳐진 데이터프레임 데이터를 xlsx 파일에 저장\n",
        "my_addr.to_excel('my_addr.xlsx',index=False)\n",
        "my_addr=pd.read_excel('my_addr.xlsx')\n",
        "my_addr.head()"
      ],
      "metadata": {
        "id": "1Sv24E1E-tLS"
      },
      "execution_count": null,
      "outputs": []
    },
    {
      "cell_type": "markdown",
      "source": [
        "# **2. 연습 문제**"
      ],
      "metadata": {
        "id": "UG6YtKy3PaPU"
      }
    },
    {
      "cell_type": "code",
      "source": [
        "# 연습 3. 월을 입력 받아 계절을 출력하는 프로그램을 작성하세요.\n",
        "# 3~ 5월은 봄, 6~ 8월은여름, 9~ 11월은 가을, 12~ 2월은 겨울\n",
        "\n",
        "def get_season(month):\n",
        "    if month in [3, 4, 5]:\n",
        "        return \"봄\"\n",
        "    elif month in [6, 7, 8]:\n",
        "        return \"여름\"\n",
        "    elif month in [9, 10, 11]:\n",
        "        return \"가을\"\n",
        "    elif month in [12, 1, 2]:\n",
        "        return \"겨울\"\n",
        "    else:\n",
        "        return \"error\"\n",
        "\n",
        "\n",
        "month = int(input(\"월을 입력하세요: \"))\n",
        "season = get_season(month)\n",
        "print(f\"{month}월은 {season}입니다.\")"
      ],
      "metadata": {
        "id": "nBFZ6oiMMDTo"
      },
      "execution_count": null,
      "outputs": []
    }
  ]
}