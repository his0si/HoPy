{
  "nbformat": 4,
  "nbformat_minor": 0,
  "metadata": {
    "colab": {
      "provenance": []
    },
    "kernelspec": {
      "name": "python3",
      "display_name": "Python 3"
    },
    "language_info": {
      "name": "python"
    }
  },
  "cells": [
    {
      "cell_type": "markdown",
      "source": [
        "# 1주차 데이터 분석 과제 (2~3-5장 실습)\n",
        "\n",
        "**학번** : 2276093\n",
        "\n",
        "**이름** : 김희서\n",
        "\n",
        "**주의사항**\n",
        "해당 과제를 하기 전에 파일 -> Drive에 사본 저장을 클릭하셔서 드라이브에 사본을 저장하신 후 사본에서 과제를 작성해주세요.\n",
        "과제를 하시다가 어려운 점이 생기셨다면, 얼마든지 \"데이터분석 분반 톡방\"에 남겨주시면 멘토들이 답변 드리겠습니다."
      ],
      "metadata": {
        "id": "LUgUKTat9asf"
      }
    },
    {
      "cell_type": "markdown",
      "source": [
        "# **0. 테스트문제**"
      ],
      "metadata": {
        "id": "52jrhucIhyYq"
      }
    },
    {
      "cell_type": "code",
      "source": [
        "#리스트 자료형을 이용하여 자신의 생년월일을 작성하세요. 아래 양식을 활용해주세요.\n",
        "a=[200]\n",
        "\n",
        "a = [2003, 8, 17]\n",
        "print(a[0], '년', a[1], '월', a[2], '일')\n"
      ],
      "metadata": {
        "colab": {
          "base_uri": "https://localhost:8080/"
        },
        "id": "y273cEvViASr",
        "outputId": "b47c92cc-1a2f-46cf-def6-292cd0cd1e50"
      },
      "execution_count": null,
      "outputs": [
        {
          "output_type": "stream",
          "name": "stdout",
          "text": [
            "2003 년 8 월 17 일\n"
          ]
        }
      ]
    },
    {
      "cell_type": "markdown",
      "source": [
        "# **1. 실습문제**"
      ],
      "metadata": {
        "id": "eARjMukQ-Xc2"
      }
    },
    {
      "cell_type": "markdown",
      "source": [
        "1) 변수"
      ],
      "metadata": {
        "id": "-VsFEAYLAkdb"
      }
    },
    {
      "cell_type": "code",
      "source": [
        "#실습 3-2. 변수에 데이터 저장하기\n",
        "a = 1\n"
      ],
      "metadata": {
        "id": "EOVGMZkjDBiP"
      },
      "execution_count": null,
      "outputs": []
    },
    {
      "cell_type": "code",
      "source": [
        "#실습 3-3. 두 개 이상의 변수에 데이터 저장하기: 본인의 이름과 나이를 변수에 저장하여 출력\n",
        "name = '김희서'\n",
        "age = 22"
      ],
      "metadata": {
        "id": "vErHBdV0DXSX"
      },
      "execution_count": null,
      "outputs": []
    },
    {
      "cell_type": "code",
      "source": [
        "#실습 3-4. 변수의 타입 확인하기\n",
        "a = 300\n",
        "b = 3.25\n",
        "c = '안녕하세요'\n",
        "d = True\n",
        "\n",
        "print(type(a))  # a의 타입 확인\n",
        "print(type(b))  # b의 타입 확인\n",
        "print(type(c))  # c의 타입 확인\n",
        "print(type(d))  # d의 타입 확인"
      ],
      "metadata": {
        "id": "b8LSFx0oDfO8",
        "colab": {
          "base_uri": "https://localhost:8080/"
        },
        "outputId": "b3645c72-89ad-4832-f175-bb955a7e1cc0"
      },
      "execution_count": null,
      "outputs": [
        {
          "output_type": "stream",
          "name": "stdout",
          "text": [
            "<class 'int'>\n",
            "<class 'float'>\n",
            "<class 'str'>\n",
            "<class 'bool'>\n"
          ]
        }
      ]
    },
    {
      "cell_type": "markdown",
      "source": [
        "2) 연산자"
      ],
      "metadata": {
        "id": "2FSV2dh3AyZn"
      }
    },
    {
      "cell_type": "code",
      "source": [
        "#실습 3-5. 동전교환기\n",
        "money = 10000\n",
        "print(money//500)"
      ],
      "metadata": {
        "id": "9ZSpiwJQ-dji"
      },
      "execution_count": null,
      "outputs": []
    },
    {
      "cell_type": "code",
      "source": [
        "#실습 3-6. 몫, 나머지 연산자 활용\n",
        "money=10000\n",
        "price=450\n",
        "numCandy=money//price\n",
        "change=money%price\n",
        "print(numCandy)\n",
        "print(change)"
      ],
      "metadata": {
        "id": "2hXFjtn4_w1P"
      },
      "execution_count": null,
      "outputs": []
    },
    {
      "cell_type": "code",
      "source": [
        "#실습 3-7. 문자열 더하기\n",
        "head='파이썬'\n",
        "tail='완전 좋아!'"
      ],
      "metadata": {
        "id": "5WBzpygn_50A"
      },
      "execution_count": null,
      "outputs": []
    },
    {
      "cell_type": "code",
      "source": [
        "#실습 3-7(2). 문자열 곱하기\n",
        "w='파이썬'\n",
        "print(w*5)"
      ],
      "metadata": {
        "id": "s6xbSXRV_58Y"
      },
      "execution_count": null,
      "outputs": []
    },
    {
      "cell_type": "code",
      "source": [
        "#실습 3-8. 문자열 곱하기 응용\n",
        "print('='*20)\n",
        "print('파이썬 짱')\n",
        "print('파이썬 좋아')\n",
        "print('='*20)"
      ],
      "metadata": {
        "id": "tlnEyRy4_6Aq",
        "colab": {
          "base_uri": "https://localhost:8080/"
        },
        "outputId": "09208c4e-043e-4564-e485-b9449c3cd4a0"
      },
      "execution_count": null,
      "outputs": [
        {
          "output_type": "stream",
          "name": "stdout",
          "text": [
            "====================\n",
            "파이썬 짱\n",
            "파이썬 좋아\n",
            "====================\n"
          ]
        }
      ]
    },
    {
      "cell_type": "markdown",
      "source": [
        "3) 표준 입력과 출력"
      ],
      "metadata": {
        "id": "khdzNtTxA5is"
      }
    },
    {
      "cell_type": "code",
      "source": [
        "#실습 3-9. 입력 자료 저장\n",
        "name=input('이름 입력:')\n",
        "print(name)"
      ],
      "metadata": {
        "id": "PMwJNkCWyjOk"
      },
      "execution_count": null,
      "outputs": []
    },
    {
      "cell_type": "code",
      "source": [
        "#실습 3-10. 문자열로 입력된 자료\n",
        "a=input('숫자1 입력:')\n",
        "b=input('숫자2 입력:')\n",
        "print(a+b)"
      ],
      "metadata": {
        "id": "Dff-YJfoyjun"
      },
      "execution_count": null,
      "outputs": []
    },
    {
      "cell_type": "code",
      "source": [
        "#실습 3-11. 정수형으로 입력된 자료\n",
        "a = int(input('숫자 1 입력:'))\n",
        "b = int(input('숫자 2 입력:'))\n",
        "print(a+b)"
      ],
      "metadata": {
        "id": "jSXJYAkgyjxR"
      },
      "execution_count": null,
      "outputs": []
    },
    {
      "cell_type": "code",
      "source": [
        "#실습 3-12. 실수형으로 입력된 자료\n",
        "c = float(input('숫자 입력:'))\n",
        "print(c)"
      ],
      "metadata": {
        "id": "hH6ItVdGyjzv"
      },
      "execution_count": null,
      "outputs": []
    },
    {
      "cell_type": "code",
      "source": [
        "#실습 3-13. end 옵션을 이용한 줄 바꿈 제어\n",
        "print('파이썬', end=' ')\n",
        "print('좋아')"
      ],
      "metadata": {
        "id": "ArW4juIByj2Y",
        "colab": {
          "base_uri": "https://localhost:8080/"
        },
        "outputId": "76ea05d0-a51d-4154-cfdb-da8edf6b7505"
      },
      "execution_count": null,
      "outputs": [
        {
          "output_type": "stream",
          "name": "stdout",
          "text": [
            "파이썬좋아\n"
          ]
        }
      ]
    },
    {
      "cell_type": "code",
      "source": [
        "#실습 3-14. 콤마(,)로 구분하여 출력\n",
        "name = input('이름 입력: ')\n",
        "print('입력하신 이름은', name)"
      ],
      "metadata": {
        "id": "3x7rgm7ay75n"
      },
      "execution_count": null,
      "outputs": []
    },
    {
      "cell_type": "code",
      "source": [
        "#실습 3-15. %s 형식지정자를 이용하여 출력\n",
        "name = input('이름 입력: ')\n",
        "print('입력하신 이름은 %s' %name)"
      ],
      "metadata": {
        "id": "Ww3pN6boy7-e",
        "colab": {
          "base_uri": "https://localhost:8080/"
        },
        "outputId": "07ec65e8-ed50-4374-bb21-5fbc9023416d"
      },
      "execution_count": null,
      "outputs": [
        {
          "output_type": "stream",
          "name": "stdout",
          "text": [
            "이름 입력: 김희서\n",
            "입력하신 이름은 김희서\n"
          ]
        }
      ]
    },
    {
      "cell_type": "code",
      "source": [
        "#실습 3-16. %d 형식지정자를 이용하여 출력\n",
        "a = int(input('숫자 1 입력: '))\n",
        "b = int(input('숫자 2 입력: '))\n",
        "print('%d + %d = %d' %(a,b,a+b))"
      ],
      "metadata": {
        "id": "DJtYP-xiy8A8",
        "colab": {
          "base_uri": "https://localhost:8080/"
        },
        "outputId": "d8d51dec-397a-4f3f-a6be-347759bc9ad0"
      },
      "execution_count": null,
      "outputs": [
        {
          "output_type": "stream",
          "name": "stdout",
          "text": [
            "숫자 1 입력: 1\n",
            "숫자 2 입력: 2\n",
            "1 + 2 = 3\n"
          ]
        }
      ]
    },
    {
      "cell_type": "code",
      "source": [
        "#실습 3-17. %f 형식지정자를 이용하여 출력\n",
        "a = int(input('숫자 1 입력: '))\n",
        "b = int(input('숫자 2 입력: '))\n",
        "print('%d / %d = %f' %(a,b,a/b))"
      ],
      "metadata": {
        "id": "gCH7RPepy8DW",
        "colab": {
          "base_uri": "https://localhost:8080/"
        },
        "outputId": "14622073-a5b7-4a1e-ea84-f12e6ef92e88"
      },
      "execution_count": null,
      "outputs": [
        {
          "output_type": "stream",
          "name": "stdout",
          "text": [
            "숫자 1 입력: 10\n",
            "숫자 2 입력: 5\n",
            "10 / 5 = 2.000000\n"
          ]
        }
      ]
    },
    {
      "cell_type": "code",
      "source": [
        "#실습 3-18. format() 함수를 이용하여 출력\n",
        "a = int(input('숫자 1 입력: '))\n",
        "b = int(input('숫자 2 입력: '))\n",
        "print('{0} * {1} = {2}'.format(a,b,a*b))\n",
        "#중괄호 {}를 원하는 순서대로 따옴표 안에 작성한다\n",
        "#중괄호에 대응되는 변수는 점(.)을 작성 후 format() 함수 안에 순서대로 작성한다"
      ],
      "metadata": {
        "id": "NIHMlsJwzZMh",
        "colab": {
          "base_uri": "https://localhost:8080/"
        },
        "outputId": "0fa9d09b-0451-4fc1-c2d6-60d2d4325fbe"
      },
      "execution_count": null,
      "outputs": [
        {
          "output_type": "stream",
          "name": "stdout",
          "text": [
            "숫자 1 입력: 3 \n",
            "숫자 2 입력: 4 \n",
            "3 * 4 = 12\n"
          ]
        }
      ]
    },
    {
      "cell_type": "code",
      "source": [
        "#실습 3-19. 중괄호 순서를 변경하고 자료를 반복하여 출력\n",
        "print('{1} {1} {0} 노래를 한다'.format('개구리','개굴'))"
      ],
      "metadata": {
        "id": "krUoZEoHzZNJ",
        "colab": {
          "base_uri": "https://localhost:8080/"
        },
        "outputId": "b624b5f6-7eeb-48fb-cb94-ffb05ee79411"
      },
      "execution_count": null,
      "outputs": [
        {
          "output_type": "stream",
          "name": "stdout",
          "text": [
            "개굴 개굴 개구리 노래를 한다\n"
          ]
        }
      ]
    },
    {
      "cell_type": "code",
      "source": [
        "#실습 3-20. f-string 포맷팅을 이용하여 출력\n",
        "a = int(input('숫자 1 입력: '))\n",
        "b = int(input('숫자 2 입력: '))\n",
        "print(f'{a}-{b}={a-b}')"
      ],
      "metadata": {
        "id": "3yszqmw_zZcp",
        "colab": {
          "base_uri": "https://localhost:8080/"
        },
        "outputId": "7e2229f5-99b8-41ad-85a8-5492f72b1102"
      },
      "execution_count": null,
      "outputs": [
        {
          "output_type": "stream",
          "name": "stdout",
          "text": [
            "숫자 1 입력: 4\n",
            "숫자 2 입력: 2\n",
            "4-2=2\n"
          ]
        }
      ]
    },
    {
      "cell_type": "markdown",
      "source": [
        "4) 컬렉션 자료형"
      ],
      "metadata": {
        "id": "GPM4CHyVA_9i"
      }
    },
    {
      "cell_type": "code",
      "source": [
        "#실습 3-21. 일반 변수 사용\n",
        "hap=0\n",
        "a = int(input('숫자 1 입력: '))\n",
        "b = int(input('숫자 2 입력: '))\n",
        "c = int(input('숫자 3 입력: '))\n",
        "d = int(input('숫자 4 입력: '))\n",
        "\n",
        "hap=a+b+c+d\n",
        "print(f'합계: {hap}')"
      ],
      "metadata": {
        "id": "f0dmADugzZe2",
        "colab": {
          "base_uri": "https://localhost:8080/"
        },
        "outputId": "85525f5a-6781-4132-ac8c-884752ae02da"
      },
      "execution_count": null,
      "outputs": [
        {
          "output_type": "stream",
          "name": "stdout",
          "text": [
            "숫자 1 입력: 1\n",
            "숫자 2 입력: 2\n",
            "숫자 3 입력: 3\n",
            "숫자 4 입력: 3\n",
            "합계: 9\n"
          ]
        }
      ]
    },
    {
      "cell_type": "code",
      "source": [
        "23#실습 3-22. 리스트 변수 사용\n",
        "a=[10,10,10,10]\n",
        "a[0]=int(input('숫자1:'))\n",
        "a[1]=int(input('숫자2:'))\n",
        "a[2]=int(input('숫자3:'))\n",
        "a[3]=int(input('숫자4:'))\n",
        "\n",
        "hap=a[0]+a[1]+a[2]+a[3]\n",
        "print(f'합계: {hap}')"
      ],
      "metadata": {
        "id": "WLph-uWozs6t",
        "colab": {
          "base_uri": "https://localhost:8080/"
        },
        "outputId": "f0802755-0aac-46b2-878a-0f6271d1e1f0"
      },
      "execution_count": 35,
      "outputs": [
        {
          "output_type": "stream",
          "name": "stdout",
          "text": [
            "숫자1:1\n",
            "숫자2:2\n",
            "숫자3:3\n",
            "숫자4:4\n",
            "합계: 10\n"
          ]
        }
      ]
    },
    {
      "cell_type": "code",
      "source": [
        "#실습 3-23. 빈 리스트 생성\n",
        "a=[]\n",
        "print(a)\n",
        "\n",
        "b=list()\n",
        "print(b)"
      ],
      "metadata": {
        "id": "IbsU0bOqzs9T"
      },
      "execution_count": null,
      "outputs": []
    },
    {
      "cell_type": "code",
      "source": [
        "#실습 3-24. 리스트 초기화\n",
        "a=[1,2,3,4,5]\n",
        "print(a)\n",
        "\n",
        "b=['안녕','파이썬']\n",
        "print(b)"
      ],
      "metadata": {
        "id": "sQ6CtDEszs_Z"
      },
      "execution_count": null,
      "outputs": []
    },
    {
      "cell_type": "code",
      "source": [
        "#실습 3-25. 리스트 인덱싱 사용\n",
        "a=[40,30,20,10]\n",
        "print(a)\n",
        "print(a[-1])\n",
        "print(a[0]+a[1])"
      ],
      "metadata": {
        "id": "JPNlW1E7ztDw"
      },
      "execution_count": null,
      "outputs": []
    },
    {
      "cell_type": "code",
      "source": [
        "#실습 3-26. 리스트 슬라이싱 사용\n",
        "a=[50,40,30,[20,10]]\n",
        "a[0:2]\n",
        "print(a[0:2])"
      ],
      "metadata": {
        "id": "YamW7Ey-ztIv",
        "colab": {
          "base_uri": "https://localhost:8080/"
        },
        "outputId": "ccbfc39c-76a9-41b3-aae0-fecd17cbb096"
      },
      "execution_count": null,
      "outputs": [
        {
          "output_type": "stream",
          "name": "stdout",
          "text": [
            "[50, 40]\n"
          ]
        }
      ]
    },
    {
      "cell_type": "code",
      "source": [
        "#실습 3-27. 리스트 값 변경하기\n",
        "a=[30,20,10]\n",
        "print(a)\n",
        "\n",
        "a[1:3]=[100,99] #연속된 범위의 값도 변경 가능\n",
        "print(a)"
      ],
      "metadata": {
        "id": "ToB4v6qmztLT",
        "colab": {
          "base_uri": "https://localhost:8080/"
        },
        "outputId": "4f4884d0-d862-45fe-e21d-02ea197fcc60"
      },
      "execution_count": null,
      "outputs": [
        {
          "output_type": "stream",
          "name": "stdout",
          "text": [
            "[30, 20, 10]\n",
            "[30, 100, 99]\n"
          ]
        }
      ]
    },
    {
      "cell_type": "code",
      "source": [
        "#실습 3-28. 튜플 초기화\n",
        "#튜플은 한번 저장된 값을 수정할 수 없는 자료형\n",
        "a=()\n",
        "print(a)\n",
        "\n",
        "a=tuple()\n",
        "print(a)\n",
        "\n",
        "a=(3,2,1)\n",
        "print(a)\n",
        "\n",
        "a=2,1\n",
        "print(a)\n",
        "\n",
        "a=tuple(range(10))\n",
        "print(a)\n",
        "\n",
        "a=['월','화','수','목','금','토','일']\n",
        "a=tuple(a) # 리스트를 튜플로 자료형 변환\n",
        "print(a)"
      ],
      "metadata": {
        "id": "se_elg9x0CeH",
        "colab": {
          "base_uri": "https://localhost:8080/"
        },
        "outputId": "6e987b51-4c5e-433f-d942-a9b8544caa5d"
      },
      "execution_count": null,
      "outputs": [
        {
          "output_type": "stream",
          "name": "stdout",
          "text": [
            "()\n",
            "()\n",
            "(3, 2, 1)\n",
            "(2, 1)\n",
            "(0, 1, 2, 3, 4, 5, 6, 7, 8, 9)\n"
          ]
        }
      ]
    },
    {
      "cell_type": "code",
      "source": [
        "#실습 3-29. 튜플 데이터 변경(error)\n",
        "a=(30,20,10)\n",
        "a[0]=100"
      ],
      "metadata": {
        "id": "uSXH9jYB0Cgd",
        "colab": {
          "base_uri": "https://localhost:8080/",
          "height": 182
        },
        "outputId": "cf1a8d70-5cdd-4dbb-ac21-940ed5def320"
      },
      "execution_count": 36,
      "outputs": [
        {
          "output_type": "error",
          "ename": "TypeError",
          "evalue": "'tuple' object does not support item assignment",
          "traceback": [
            "\u001b[0;31m---------------------------------------------------------------------------\u001b[0m",
            "\u001b[0;31mTypeError\u001b[0m                                 Traceback (most recent call last)",
            "\u001b[0;32m<ipython-input-36-c32fe82d0283>\u001b[0m in \u001b[0;36m<cell line: 3>\u001b[0;34m()\u001b[0m\n\u001b[1;32m      1\u001b[0m \u001b[0;31m#실습 3-29. 튜플 데이터 변경(error)\u001b[0m\u001b[0;34m\u001b[0m\u001b[0;34m\u001b[0m\u001b[0m\n\u001b[1;32m      2\u001b[0m \u001b[0ma\u001b[0m\u001b[0;34m=\u001b[0m\u001b[0;34m(\u001b[0m\u001b[0;36m30\u001b[0m\u001b[0;34m,\u001b[0m\u001b[0;36m20\u001b[0m\u001b[0;34m,\u001b[0m\u001b[0;36m10\u001b[0m\u001b[0;34m)\u001b[0m\u001b[0;34m\u001b[0m\u001b[0;34m\u001b[0m\u001b[0m\n\u001b[0;32m----> 3\u001b[0;31m \u001b[0ma\u001b[0m\u001b[0;34m[\u001b[0m\u001b[0;36m0\u001b[0m\u001b[0;34m]\u001b[0m\u001b[0;34m=\u001b[0m\u001b[0;36m100\u001b[0m\u001b[0;34m\u001b[0m\u001b[0;34m\u001b[0m\u001b[0m\n\u001b[0m",
            "\u001b[0;31mTypeError\u001b[0m: 'tuple' object does not support item assignment"
          ]
        }
      ]
    },
    {
      "cell_type": "code",
      "source": [
        "#실습 3-30. 튜플 인덱싱과 슬라이싱\n",
        "a=[40,30,20,10]\n",
        "\n",
        "print(a[0])\n",
        "print(a[-1])\n",
        "print(a[1:])\n",
        "print(a[:2])"
      ],
      "metadata": {
        "id": "LeNeiB1i0Ci7",
        "colab": {
          "base_uri": "https://localhost:8080/"
        },
        "outputId": "db506906-e868-4897-f79c-01a68c52d311"
      },
      "execution_count": null,
      "outputs": [
        {
          "output_type": "stream",
          "name": "stdout",
          "text": [
            "40\n",
            "10\n",
            "[30, 20, 10]\n",
            "[40, 30]\n"
          ]
        }
      ]
    },
    {
      "cell_type": "code",
      "source": [
        "#실습 3-31. 빈 딕셔너리 생성\n",
        "a={}\n",
        "print(a)\n",
        "\n",
        "a=dict()\n",
        "print(a)"
      ],
      "metadata": {
        "id": "my6Q0jaX0Ktc"
      },
      "execution_count": null,
      "outputs": []
    },
    {
      "cell_type": "code",
      "source": [
        "#실습 3-32. 딕셔너리 초기화\n",
        "fruit={1:'호두',2:'땅콩'}\n",
        "print(fruit)\n",
        "\n",
        "menu={'김밥':3000,'라면':5000}\n",
        "print(menu)"
      ],
      "metadata": {
        "id": "cnH7g2Gj0KyA",
        "colab": {
          "base_uri": "https://localhost:8080/"
        },
        "outputId": "dbd8f25f-9251-4960-e835-a4162d755475"
      },
      "execution_count": null,
      "outputs": [
        {
          "output_type": "stream",
          "name": "stdout",
          "text": [
            "{1: '호두', 2: '땅콩'}\n",
            "{'김밥': 3000, '라면': 5000}\n"
          ]
        }
      ]
    },
    {
      "cell_type": "code",
      "source": [
        "#실습 3-33. 딕셔너리 초기화\n",
        "menu={'김밥':3000,'라면':5000}\n",
        "print(menu)\n",
        "menu['라면']=6000\n",
        "print(menu)\n",
        "menu['떡볶이']=4000\n",
        "print(menu)"
      ],
      "metadata": {
        "id": "__msLfsy0K0u",
        "colab": {
          "base_uri": "https://localhost:8080/"
        },
        "outputId": "0c5dd73d-00ec-4140-ac02-48edab630be8"
      },
      "execution_count": null,
      "outputs": [
        {
          "output_type": "stream",
          "name": "stdout",
          "text": [
            "{'김밥': 3000, '라면': 5000}\n",
            "{'김밥': 3000, '라면': 6000}\n",
            "{'김밥': 3000, '라면': 6000, '떡볶이': 4000}\n"
          ]
        }
      ]
    },
    {
      "cell_type": "code",
      "source": [
        "#실습 3-34. 세트 초기화\n",
        "a={30,20,10}\n",
        "print(a)\n",
        "\n",
        "a={30,20,30,10}\n",
        "print(a)\n",
        "\n",
        "b=set([30,20,10])\n",
        "print(b)"
      ],
      "metadata": {
        "id": "sLDNSk_g0K68",
        "colab": {
          "base_uri": "https://localhost:8080/"
        },
        "outputId": "78c7858e-af1f-4485-f3ac-ba423439a13a"
      },
      "execution_count": null,
      "outputs": [
        {
          "output_type": "stream",
          "name": "stdout",
          "text": [
            "{10, 20, 30}\n",
            "{10, 20, 30}\n",
            "{10, 20, 30}\n"
          ]
        }
      ]
    },
    {
      "cell_type": "code",
      "source": [
        "#실습 3-35. 세트 합집합, 교집합, 차집합\n",
        "a={30,20,10}\n",
        "b={40,20}\n",
        "\n",
        "print(a&b) #교집합\n",
        "print(a.intersection(b)) #교집합\n",
        "\n",
        "print(a|b) #합집합\n",
        "print(a.union(b)) #합집합"
      ],
      "metadata": {
        "id": "TttF3Kmc0gwF",
        "colab": {
          "base_uri": "https://localhost:8080/"
        },
        "outputId": "97fba895-724e-4c82-eb60-575d894ed665"
      },
      "execution_count": null,
      "outputs": [
        {
          "output_type": "stream",
          "name": "stdout",
          "text": [
            "{20}\n",
            "{20}\n",
            "{20, 40, 10, 30}\n",
            "{20, 40, 10, 30}\n"
          ]
        }
      ]
    },
    {
      "cell_type": "markdown",
      "source": [
        "5) 리스트 내포"
      ],
      "metadata": {
        "id": "ZNYiiBuYBDjw"
      }
    },
    {
      "cell_type": "code",
      "source": [
        "#기본적인 리스트 내포 형식\n",
        "#list1 항목들에서 순차적으로 꺼내온 자료에 5씩 더한 값을 리스트에 추가하기\n",
        "\n",
        "list1 = [-5, 0, 1, 5, 10]\n",
        "[i+5 for i in list1]"
      ],
      "metadata": {
        "id": "d8s_QcD_DxHF",
        "colab": {
          "base_uri": "https://localhost:8080/"
        },
        "outputId": "715224b3-0a3c-4b92-f8e6-cf3265fc663e"
      },
      "execution_count": null,
      "outputs": [
        {
          "output_type": "execute_result",
          "data": {
            "text/plain": [
              "[0, 5, 6, 10, 15]"
            ]
          },
          "metadata": {},
          "execution_count": 32
        }
      ]
    },
    {
      "cell_type": "code",
      "source": [
        "#list2 항목들에서 순차적으로 꺼내온 자료의 제곱값을 추출하여 리스트에 추가하기\n",
        "\n",
        "list2 = [1, 2, 3, 4, 5]\n",
        "new_list = []\n",
        "\n",
        "for i in list2:\n",
        "    new_list.append(i ** 2)\n",
        "\n",
        "print(new_list)"
      ],
      "metadata": {
        "id": "by9768w_EGT3",
        "colab": {
          "base_uri": "https://localhost:8080/"
        },
        "outputId": "108791fd-363a-48ab-a574-1ec3ad9806a8"
      },
      "execution_count": null,
      "outputs": [
        {
          "output_type": "stream",
          "name": "stdout",
          "text": [
            "[1, 4, 9, 16, 25]\n"
          ]
        }
      ]
    },
    {
      "cell_type": "code",
      "source": [
        "#m(미터) 단위로 저장된 list3 데이터를 cm(센티미터) 자료로 변환\n",
        "#리스트 내포 형식을 활용하기\n",
        "\n",
        "list3 = [2.6, 5, 4, 9]\n",
        "new_list = [i * 100 for i in list3]\n",
        "print(new_list)"
      ],
      "metadata": {
        "id": "G4VT2dNWElZG",
        "colab": {
          "base_uri": "https://localhost:8080/"
        },
        "outputId": "6e32786c-a75b-4b91-e58e-7e4df5326758"
      },
      "execution_count": null,
      "outputs": [
        {
          "output_type": "stream",
          "name": "stdout",
          "text": [
            "[260.0, 500, 400, 900]\n"
          ]
        }
      ]
    },
    {
      "cell_type": "code",
      "source": [
        "#list4 항목들에서 순차적으로 꺼내온 자료에 1/x 연산을 수행하여 리스트에 추가하기\n",
        "#조건 있는 리스트 내포 형식을 이용하여 오류를 해결하세요!\n",
        "\n",
        "list4 = [-40, -20, 0, 20, 40]\n",
        "result = [1/x for x in list4 if x != 0]\n",
        "print(result)"
      ],
      "metadata": {
        "id": "SbsvN4g4EC5-"
      },
      "execution_count": null,
      "outputs": []
    }
  ]
}