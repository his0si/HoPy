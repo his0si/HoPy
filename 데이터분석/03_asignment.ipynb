{
  "nbformat": 4,
  "nbformat_minor": 0,
  "metadata": {
    "colab": {
      "provenance": []
    },
    "kernelspec": {
      "name": "python3",
      "display_name": "Python 3"
    },
    "language_info": {
      "name": "python"
    }
  },
  "cells": [
    {
      "cell_type": "markdown",
      "source": [
        "# 3주차 데이터 분석 과제 (4장 실습)\n",
        "\n",
        "**학번** :2276093\n",
        "\n",
        "**이름** :김희서\n",
        "\n",
        "**주의사항**\n",
        "해당 과제를 하기 전에 파일 -> Drive에 사본 저장을 클릭하셔서 드라이브에 사본을 저장하신 후 사본에서 과제를 작성해주세요.\n",
        "\n",
        "과제를 하시다가 어려운 점이 생기셨다면, 얼마든지 \"데이터분석 분반 톡방\"에 남겨주시면 멘토들이 답변 드리겠습니다.\n",
        "\n"
      ],
      "metadata": {
        "id": "qSOIexGM4bDj"
      }
    },
    {
      "cell_type": "markdown",
      "source": [
        "# **0. 테스트 문제**"
      ],
      "metadata": {
        "id": "ChJzdfs05FB5"
      }
    },
    {
      "cell_type": "code",
      "source": [
        "'''\n",
        "1부터 16까지의 연속된 정수값을 갖는 1차원 배열을 생성하고,\n",
        "2행 8열의 shape을 갖는 2차원 배열로 형태를 변환하시오.\n",
        "이를 1~8, 9~16을 원소로 갖는 1차원 배열 2개를 반환하는 코드를 작성하시오.\n",
        "'''\n",
        "import numpy as np\n",
        "arr=np.array([1,2,3,4,5,6,7,8,9,10,11,12,13,14,15,16])\n",
        "\n",
        "arr_2d = arr.reshape(2, 8)\n",
        "\n",
        "arr1 = arr_2d[0]\n",
        "arr2 = arr_2d[1]\n",
        "\n",
        "print(\"첫 번째 배열:\", arr1)\n",
        "print(\"두 번째 배열:\", arr2)"
      ],
      "metadata": {
        "id": "hkVo-yFKceuJ",
        "colab": {
          "base_uri": "https://localhost:8080/"
        },
        "outputId": "c8f05aa3-9cf5-4f36-8091-42c6e9d5df23"
      },
      "execution_count": 2,
      "outputs": [
        {
          "output_type": "stream",
          "name": "stdout",
          "text": [
            "첫 번째 배열: [1 2 3 4 5 6 7 8]\n",
            "두 번째 배열: [ 9 10 11 12 13 14 15 16]\n"
          ]
        }
      ]
    },
    {
      "cell_type": "markdown",
      "source": [
        "# **1. 실습 문제**"
      ],
      "metadata": {
        "id": "u3h0Ybh95K8b"
      }
    },
    {
      "cell_type": "markdown",
      "source": [
        "4-2"
      ],
      "metadata": {
        "id": "fL9jfJTk5OT9"
      }
    },
    {
      "cell_type": "code",
      "source": [
        "# 실습4-1. 1차원 배열(list)로 numpy 배열 생성\n",
        "import numpy as np\n",
        "arr = np.array([1, 2, 3, 4, 5])\n",
        "print(arr)"
      ],
      "metadata": {
        "id": "jk0h2XsfSgJH",
        "colab": {
          "base_uri": "https://localhost:8080/"
        },
        "outputId": "ca34d814-3248-4209-c9b1-8cb39c942141"
      },
      "execution_count": 1,
      "outputs": [
        {
          "output_type": "stream",
          "name": "stdout",
          "text": [
            "[1 2 3 4 5]\n"
          ]
        }
      ]
    },
    {
      "cell_type": "code",
      "source": [
        "# 실습4-2. 2차원 배열(list)로 numpy 배열 생성\n",
        "import numpy as np\n",
        "arr=np.array([[1,2,3],[4,5,6]])\n",
        "print(arr)"
      ],
      "metadata": {
        "id": "abJxUtFgSf-c",
        "colab": {
          "base_uri": "https://localhost:8080/"
        },
        "outputId": "60ec371e-aaf6-4c9f-9891-2b1e006bf7db"
      },
      "execution_count": 3,
      "outputs": [
        {
          "output_type": "stream",
          "name": "stdout",
          "text": [
            "[[1 2 3]\n",
            " [4 5 6]]\n"
          ]
        }
      ]
    },
    {
      "cell_type": "code",
      "source": [
        "# 실습4-3. 3차원 배열(list)로 numpy 배열 생성\n",
        "import numpy as np\n",
        "arr=np.array([[[1,2,3],[4,5,6],[7,8,9]],[[1,2,3],[4,5,6],[7,8,9]],[[1,2,3],[4,5,6],[7,8,9]]])\n",
        "print(arr)"
      ],
      "metadata": {
        "id": "BVsU3tnTSf5P",
        "colab": {
          "base_uri": "https://localhost:8080/"
        },
        "outputId": "e4177145-aa76-4301-ab0a-e76a99fc69c1"
      },
      "execution_count": 5,
      "outputs": [
        {
          "output_type": "stream",
          "name": "stdout",
          "text": [
            "[[[1 2 3]\n",
            "  [4 5 6]\n",
            "  [7 8 9]]\n",
            "\n",
            " [[1 2 3]\n",
            "  [4 5 6]\n",
            "  [7 8 9]]\n",
            "\n",
            " [[1 2 3]\n",
            "  [4 5 6]\n",
            "  [7 8 9]]]\n"
          ]
        }
      ]
    },
    {
      "cell_type": "code",
      "source": [
        "# 실습4-4. arange( ) : 정수 범위로 배열 생성\n",
        "import numpy as np\n",
        "a=np.arange(1,21)\n",
        "print(a)"
      ],
      "metadata": {
        "id": "IE0jT1KGSfy_",
        "colab": {
          "base_uri": "https://localhost:8080/"
        },
        "outputId": "39f33656-cb25-4939-fd66-13b2c60c5824"
      },
      "execution_count": 6,
      "outputs": [
        {
          "output_type": "stream",
          "name": "stdout",
          "text": [
            "[ 1  2  3  4  5  6  7  8  9 10 11 12 13 14 15 16 17 18 19 20]\n"
          ]
        }
      ]
    },
    {
      "cell_type": "code",
      "source": [
        "# 실습4-5. linspace() : 범위 내에서 균등 간격의 배열 생성\n",
        "import numpy as np\n",
        "a=np.linspace(0,10,5)\n",
        "print(a)"
      ],
      "metadata": {
        "id": "WzhklTx-Sfrf"
      },
      "execution_count": null,
      "outputs": []
    },
    {
      "cell_type": "code",
      "source": [
        "# 실습4-6. logspace(): 범위 내에서 균등 간격으로 로그 스케일로 배열 생성\n",
        "import numpy as np\n",
        "a=np.logspace(np.log10(10),np.log10(100),5)\n",
        "print(a)"
      ],
      "metadata": {
        "id": "PrFwBtu_TF9N",
        "colab": {
          "base_uri": "https://localhost:8080/"
        },
        "outputId": "31eb69e6-5668-48b3-b91a-64d748644a7f"
      },
      "execution_count": 8,
      "outputs": [
        {
          "output_type": "stream",
          "name": "stdout",
          "text": [
            "[ 10.          17.7827941   31.6227766   56.23413252 100.        ]\n"
          ]
        }
      ]
    },
    {
      "cell_type": "code",
      "source": [
        "# 실습4-7. random : 랜덤한 수의 배열 생성\n",
        "a=np.random.random()\n",
        "print(a)\n",
        "\n",
        "a=np.random.random((4,4))\n",
        "print(a)"
      ],
      "metadata": {
        "id": "5avPC2pmTGr0",
        "colab": {
          "base_uri": "https://localhost:8080/"
        },
        "outputId": "0409ad63-7f50-4dec-b95d-3e83c35ca940"
      },
      "execution_count": 10,
      "outputs": [
        {
          "output_type": "stream",
          "name": "stdout",
          "text": [
            "0.04452962059448595\n",
            "[[0.39110059 0.1835794  0.82959612 0.31425694]\n",
            " [0.56141163 0.7731341  0.67479888 0.26453995]\n",
            " [0.2914053  0.76766972 0.52131696 0.82788255]\n",
            " [0.55947669 0.9163983  0.20962549 0.56859984]]\n"
          ]
        }
      ]
    },
    {
      "cell_type": "code",
      "source": [
        "# 실습4-8. randint : 랜덤한 정수의 배열 생성\n",
        "import numpy as np\n",
        "a=np.random.randint(1,10)\n",
        "print(a)"
      ],
      "metadata": {
        "id": "t3nvE6_bTGeB",
        "colab": {
          "base_uri": "https://localhost:8080/"
        },
        "outputId": "a0823cc0-8f4b-45d5-b4e7-3c3462e9095e"
      },
      "execution_count": 14,
      "outputs": [
        {
          "output_type": "stream",
          "name": "stdout",
          "text": [
            "7\n"
          ]
        }
      ]
    },
    {
      "cell_type": "code",
      "source": [
        "# 실습4-9. rand: 균등분포를 고려한 랜덤한 수의 배열 생성\n",
        "import numpy as np\n",
        "a=np.random.rand(3,3)\n",
        "print(a)"
      ],
      "metadata": {
        "id": "Z_CJBJSzUGgy",
        "colab": {
          "base_uri": "https://localhost:8080/"
        },
        "outputId": "fa0dc9f1-6886-4f36-99d1-e99a0a738a55"
      },
      "execution_count": 15,
      "outputs": [
        {
          "output_type": "stream",
          "name": "stdout",
          "text": [
            "[[0.29179912 0.28788568 0.72858579]\n",
            " [0.74387562 0.44776807 0.80112849]\n",
            " [0.51075793 0.23174468 0.90848603]]\n"
          ]
        }
      ]
    },
    {
      "cell_type": "code",
      "source": [
        "# 실습4-10. randn : 표준 정규분포를 고려한 랜덤한 수의 배열 생성\n",
        "import numpy as np\n",
        "a=np.random.randn(3,3)\n",
        "print(a)"
      ],
      "metadata": {
        "id": "vfoFZqL9UGWm",
        "colab": {
          "base_uri": "https://localhost:8080/"
        },
        "outputId": "abb66738-c085-4a86-80c0-230c971dafa9"
      },
      "execution_count": 16,
      "outputs": [
        {
          "output_type": "stream",
          "name": "stdout",
          "text": [
            "[[-0.78775084  0.09156822 -0.99836366]\n",
            " [ 0.13133516 -1.2027743  -0.28895247]\n",
            " [-0.83257994  0.62463027 -2.07717158]]\n"
          ]
        }
      ]
    },
    {
      "cell_type": "markdown",
      "source": [
        "4-3"
      ],
      "metadata": {
        "id": "bytAR8qs5ReO"
      }
    },
    {
      "cell_type": "code",
      "source": [
        "# 실습4-11. 배열의 속성 알아보기\n",
        "arr=np.arange(1,6)\n",
        "print(arr)\n",
        "print('ndimL', arr.ndim)\n",
        "print('shape:',arr.shape)\n",
        "print('dtype:',arr.dtype)\n",
        "print('size:',arr.size)\n",
        "print('itemsize:',arr.itemsize)\n",
        "print('nbytes:',arr.nbytes)"
      ],
      "metadata": {
        "id": "mmdRFbCAnYgN",
        "colab": {
          "base_uri": "https://localhost:8080/"
        },
        "outputId": "c2a263a4-b325-489b-a92e-01aa5897fe26"
      },
      "execution_count": 17,
      "outputs": [
        {
          "output_type": "stream",
          "name": "stdout",
          "text": [
            "[1 2 3 4 5]\n",
            "ndimL 1\n",
            "shape: (5,)\n",
            "dtype: int64\n",
            "size: 5\n",
            "itemsize: 8\n",
            "nbytes: 40\n"
          ]
        }
      ]
    },
    {
      "cell_type": "code",
      "source": [
        "# 실습4-12. 1차원 배열의 인덱싱 및 변경\n",
        "arr=np.arange(9) #1차원 배열\n",
        "print(arr)\n",
        "print(arr[0])\n",
        "print(arr[-1])\n",
        "arr[0]=10 #요소 변경\n",
        "print(arr)"
      ],
      "metadata": {
        "id": "A5nMcxp6oBVs",
        "colab": {
          "base_uri": "https://localhost:8080/"
        },
        "outputId": "43b29e06-5a54-47cd-d0c9-24a29f19312b"
      },
      "execution_count": 20,
      "outputs": [
        {
          "output_type": "stream",
          "name": "stdout",
          "text": [
            "[0 1 2 3 4 5 6 7 8]\n",
            "0\n",
            "8\n",
            "[10  1  2  3  4  5  6  7  8]\n"
          ]
        }
      ]
    },
    {
      "cell_type": "code",
      "source": [
        "# 실습4-13. 2차원 배열의 인덱싱 및 변경\n",
        "arr=np.arange(9).reshape(3,3) #2차원 배열\n",
        "print(arr)\n",
        "print(arr[0,1])\n",
        "print(arr[1,2])\n",
        "arr[0,0]=10 #요소 변경\n",
        "print(arr)"
      ],
      "metadata": {
        "id": "sPT3we97nYl9",
        "colab": {
          "base_uri": "https://localhost:8080/"
        },
        "outputId": "225fc951-76db-4d94-db1e-1f40ca3556af"
      },
      "execution_count": 21,
      "outputs": [
        {
          "output_type": "stream",
          "name": "stdout",
          "text": [
            "[[0 1 2]\n",
            " [3 4 5]\n",
            " [6 7 8]]\n",
            "1\n",
            "5\n",
            "[[10  1  2]\n",
            " [ 3  4  5]\n",
            " [ 6  7  8]]\n"
          ]
        }
      ]
    },
    {
      "cell_type": "code",
      "source": [
        "# 실습4-14. 1차원 배열의 슬라이싱\n",
        "arr=np.arange(6)\n",
        "print(arr)\n",
        "print(arr[0:3])\n",
        "print(arr[1:])\n",
        "print(arr[-2:])\n",
        "print(arr[:-3])\n",
        "print(arr[::2])\n",
        "print(arr[::-1])"
      ],
      "metadata": {
        "id": "xDDYpWEQoDRc",
        "colab": {
          "base_uri": "https://localhost:8080/"
        },
        "outputId": "44324545-d790-49c2-aef1-24c43a8c8a20"
      },
      "execution_count": 22,
      "outputs": [
        {
          "output_type": "stream",
          "name": "stdout",
          "text": [
            "[0 1 2 3 4 5]\n",
            "[0 1 2]\n",
            "[1 2 3 4 5]\n",
            "[4 5]\n",
            "[0 1 2]\n",
            "[0 2 4]\n",
            "[5 4 3 2 1 0]\n"
          ]
        }
      ]
    },
    {
      "cell_type": "code",
      "source": [
        "# 실습4-15. 2차원 배열의 슬라이싱\n",
        "arr=np.arange(1,25).reshape((4,6))\n",
        "print(arr)\n",
        "print(arr[1])\n",
        "print(arr[1:3,1:5])\n",
        "print(arr[2,:])\n",
        "print(arr[:3,:3])\n",
        "print(arr[2:,::-1])\n",
        "print(arr[::-1,::-1])"
      ],
      "metadata": {
        "id": "Ftm4gKCJnYoY",
        "colab": {
          "base_uri": "https://localhost:8080/"
        },
        "outputId": "1835dbec-0a5c-499e-ee1e-e1f749d15494"
      },
      "execution_count": 23,
      "outputs": [
        {
          "output_type": "stream",
          "name": "stdout",
          "text": [
            "[[ 1  2  3  4  5  6]\n",
            " [ 7  8  9 10 11 12]\n",
            " [13 14 15 16 17 18]\n",
            " [19 20 21 22 23 24]]\n",
            "[ 7  8  9 10 11 12]\n",
            "[[ 8  9 10 11]\n",
            " [14 15 16 17]]\n",
            "[13 14 15 16 17 18]\n",
            "[[ 1  2  3]\n",
            " [ 7  8  9]\n",
            " [13 14 15]]\n",
            "[[18 17 16 15 14 13]\n",
            " [24 23 22 21 20 19]]\n",
            "[[24 23 22 21 20 19]\n",
            " [18 17 16 15 14 13]\n",
            " [12 11 10  9  8  7]\n",
            " [ 6  5  4  3  2  1]]\n"
          ]
        }
      ]
    },
    {
      "cell_type": "code",
      "source": [
        "# 실습4-16. 불린 인덱싱 개념\n",
        "arr=np.arange(1,6)\n",
        "print(arr)\n",
        "b=[True,False,False,True,False]\n",
        "print(arr[b])"
      ],
      "metadata": {
        "id": "86qr52_RnYrC",
        "colab": {
          "base_uri": "https://localhost:8080/"
        },
        "outputId": "63de0c88-24da-44d1-9fdf-50d13ff23a4c"
      },
      "execution_count": 26,
      "outputs": [
        {
          "output_type": "stream",
          "name": "stdout",
          "text": [
            "[1 2 3 4 5]\n",
            "[1 4]\n"
          ]
        }
      ]
    },
    {
      "cell_type": "code",
      "source": [
        "# 실습4-17. 불린 인덱싱 : 비교 연산자 사용\n",
        "arr=np.arange(11)\n",
        "print(arr[arr<5])\n",
        "\n",
        "five_up=(arr>=5)\n",
        "five_up\n",
        "print(arr[five_up])\n",
        "divide_by_2=arr[arr%2==0]\n",
        "print(divide_by_2)"
      ],
      "metadata": {
        "id": "7EbJIijKny1S",
        "colab": {
          "base_uri": "https://localhost:8080/"
        },
        "outputId": "460ca6e2-0d17-46f6-a6c0-cdf9d919ac19"
      },
      "execution_count": 29,
      "outputs": [
        {
          "output_type": "stream",
          "name": "stdout",
          "text": [
            "[0 1 2 3 4]\n",
            "[ 5  6  7  8  9 10]\n",
            "[ 0  2  4  6  8 10]\n"
          ]
        }
      ]
    },
    {
      "cell_type": "code",
      "source": [
        "# 실습4-18. 불리언 인덱싱 : 관계 연산자 사용\n",
        "c=arr[(arr>5)&(arr<11)] #and\n",
        "print(c)\n",
        "\n",
        "d=arr[(arr>9)|(arr<5)] #or\n",
        "print(d)\n",
        "\n",
        "e=arr[~(arr%3==0)] #not\n",
        "print(e)"
      ],
      "metadata": {
        "id": "86Pk1E1bny3d",
        "colab": {
          "base_uri": "https://localhost:8080/"
        },
        "outputId": "902810e2-67eb-4202-e232-db0d7db95354"
      },
      "execution_count": 31,
      "outputs": [
        {
          "output_type": "stream",
          "name": "stdout",
          "text": [
            "[ 6  7  8  9 10]\n",
            "[ 0  1  2  3  4 10]\n",
            "[ 1  2  4  5  7  8 10]\n"
          ]
        }
      ]
    },
    {
      "cell_type": "markdown",
      "source": [
        "4-4"
      ],
      "metadata": {
        "id": "t_hy1-g85SMJ"
      }
    },
    {
      "cell_type": "code",
      "source": [
        "# 실습 4-19. 산술 연산: 사칙연산 연산자와 함수 활용\n",
        "a=np.arange(1,11)\n",
        "b=np.arange(1,11)\n",
        "print(a+b)\n",
        "print(np.add(a,b))\n",
        "print(a-b)\n",
        "print(np.subtract(a,b))\n",
        "print(a*b)\n",
        "print(np.multiply(a,b))\n",
        "print(a/b)\n",
        "print(np.divide(a,b))"
      ],
      "metadata": {
        "id": "0np8WK57pcsa",
        "colab": {
          "base_uri": "https://localhost:8080/"
        },
        "outputId": "628402b5-f3c5-48c0-dc4b-c498babb4093"
      },
      "execution_count": 33,
      "outputs": [
        {
          "output_type": "stream",
          "name": "stdout",
          "text": [
            "[ 2  4  6  8 10 12 14 16 18 20]\n",
            "[ 2  4  6  8 10 12 14 16 18 20]\n",
            "[0 0 0 0 0 0 0 0 0 0]\n",
            "[0 0 0 0 0 0 0 0 0 0]\n",
            "[  1   4   9  16  25  36  49  64  81 100]\n",
            "[  1   4   9  16  25  36  49  64  81 100]\n",
            "[1. 1. 1. 1. 1. 1. 1. 1. 1. 1.]\n",
            "[1. 1. 1. 1. 1. 1. 1. 1. 1. 1.]\n"
          ]
        }
      ]
    },
    {
      "cell_type": "code",
      "source": [
        "# 실습 4-20. 기타 연산: 지수, 제곱근, sin, cos, tan, log\n",
        "a=np.arange(1,11)\n",
        "print(np.exp(a))\n",
        "print(np.sqrt(a))\n",
        "print(np.sin(a))\n",
        "print(np.cos(a))\n",
        "print(np.tan(a))\n",
        "print(np.log(a))"
      ],
      "metadata": {
        "id": "-Z3wCQpapmSv",
        "colab": {
          "base_uri": "https://localhost:8080/"
        },
        "outputId": "af562a5f-e908-411d-ad37-0750a27756a2"
      },
      "execution_count": 34,
      "outputs": [
        {
          "output_type": "stream",
          "name": "stdout",
          "text": [
            "[2.71828183e+00 7.38905610e+00 2.00855369e+01 5.45981500e+01\n",
            " 1.48413159e+02 4.03428793e+02 1.09663316e+03 2.98095799e+03\n",
            " 8.10308393e+03 2.20264658e+04]\n",
            "[1.         1.41421356 1.73205081 2.         2.23606798 2.44948974\n",
            " 2.64575131 2.82842712 3.         3.16227766]\n",
            "[ 0.84147098  0.90929743  0.14112001 -0.7568025  -0.95892427 -0.2794155\n",
            "  0.6569866   0.98935825  0.41211849 -0.54402111]\n",
            "[ 0.54030231 -0.41614684 -0.9899925  -0.65364362  0.28366219  0.96017029\n",
            "  0.75390225 -0.14550003 -0.91113026 -0.83907153]\n",
            "[ 1.55740772 -2.18503986 -0.14254654  1.15782128 -3.38051501 -0.29100619\n",
            "  0.87144798 -6.79971146 -0.45231566  0.64836083]\n",
            "[0.         0.69314718 1.09861229 1.38629436 1.60943791 1.79175947\n",
            " 1.94591015 2.07944154 2.19722458 2.30258509]\n"
          ]
        }
      ]
    },
    {
      "cell_type": "code",
      "source": [
        "# 실습 4-21. 합계: [ndarray 배열 객체].sum(), np.sum()\n",
        "a=np.arange(1,10).reshape(3,3)\n",
        "print(a.sum())\n",
        "print(np.sum(a))\n",
        "print(a)\n",
        "b=a.sum(axis=0)\n",
        "print(b)\n",
        "c=a.sum(axis=1)\n",
        "print(c)"
      ],
      "metadata": {
        "id": "WTsGiLScpw84",
        "colab": {
          "base_uri": "https://localhost:8080/"
        },
        "outputId": "656dd64b-1100-4ce0-9445-ee62b38f3d32"
      },
      "execution_count": 36,
      "outputs": [
        {
          "output_type": "stream",
          "name": "stdout",
          "text": [
            "45\n",
            "45\n",
            "[[1 2 3]\n",
            " [4 5 6]\n",
            " [7 8 9]]\n",
            "[12 15 18]\n",
            "[ 6 15 24]\n"
          ]
        }
      ]
    },
    {
      "cell_type": "code",
      "source": [
        "# 실습 4-22. 최댓값: [ndarray 배열 객체].max(), np.max()\n",
        "a=np.arange(1,10).reshape(3,3)\n",
        "print(a)\n",
        "print(a.max(),np.max(a))\n",
        "print(a.max(axis=0),np.max(a,axis=0))\n",
        "print(a.max(axis=1),np.max(a,axis=1))"
      ],
      "metadata": {
        "id": "7JEEExh-p3H2",
        "colab": {
          "base_uri": "https://localhost:8080/"
        },
        "outputId": "076cc693-03b2-44d2-d911-15b5d8301cc8"
      },
      "execution_count": 37,
      "outputs": [
        {
          "output_type": "stream",
          "name": "stdout",
          "text": [
            "45\n",
            "45\n",
            "[[1 2 3]\n",
            " [4 5 6]\n",
            " [7 8 9]]\n",
            "9 9\n",
            "[7 8 9] [7 8 9]\n",
            "[3 6 9] [3 6 9]\n"
          ]
        }
      ]
    },
    {
      "cell_type": "code",
      "source": [
        "# 실습 4-23. 최솟값: [ndarray 배열 객체].min(), np.min()\n",
        "a=np.arange(1,10).reshape(3,3)\n",
        "print(a)\n",
        "print(a.min(),np.min(a))\n",
        "print(a.min(axis=0),np.min(a,axis=0))\n",
        "print(a.min(axis=1),np.min(a,axis=1))"
      ],
      "metadata": {
        "id": "987y3MA5qFBI",
        "colab": {
          "base_uri": "https://localhost:8080/"
        },
        "outputId": "8e74fabf-9420-4bf5-ecc1-b3f37deb0c1d"
      },
      "execution_count": 38,
      "outputs": [
        {
          "output_type": "stream",
          "name": "stdout",
          "text": [
            "45\n",
            "45\n",
            "[[1 2 3]\n",
            " [4 5 6]\n",
            " [7 8 9]]\n",
            "1 1\n",
            "[1 2 3] [1 2 3]\n",
            "[1 4 7] [1 4 7]\n"
          ]
        }
      ]
    },
    {
      "cell_type": "code",
      "source": [
        "# 실습 4-24. 평균과 중앙값: [ndarray 배열 객체].mean(), np.mean() / np.median()\n",
        "a=np.arange(1,10).reshape(3,3)\n",
        "print(a)\n",
        "print(a.mean(),np.mean(a))\n",
        "print(a.mean(axis=0),np.mean(a,axis=0))\n",
        "print(a.mean(axis=1),np.mean(a,axis=1))\n",
        "print(np.median(a))"
      ],
      "metadata": {
        "id": "prpcOGcQqJuC",
        "colab": {
          "base_uri": "https://localhost:8080/"
        },
        "outputId": "1af99f86-0a09-434a-b820-aa1316b11a03"
      },
      "execution_count": 39,
      "outputs": [
        {
          "output_type": "stream",
          "name": "stdout",
          "text": [
            "[[1 2 3]\n",
            " [4 5 6]\n",
            " [7 8 9]]\n",
            "5.0 5.0\n",
            "[4. 5. 6.] [4. 5. 6.]\n",
            "[2. 5. 8.] [2. 5. 8.]\n",
            "5.0\n"
          ]
        }
      ]
    },
    {
      "cell_type": "code",
      "source": [
        "# 실습 4-25. 표준편차: [ndarray 배열 객체].std(), np.std()\n",
        "a=np.arange(1,10).reshape(3,3)\n",
        "print(a)\n",
        "print(a.std(),np.std(a))\n",
        "print(a.std(axis=0),np.std(a,axis=0))\n",
        "print(a.std(axis=1),np.std(a,axis=1))"
      ],
      "metadata": {
        "id": "VrGeMto0qTEE",
        "colab": {
          "base_uri": "https://localhost:8080/"
        },
        "outputId": "eecc0eff-fced-4dd9-9916-295ed4bd9562"
      },
      "execution_count": 40,
      "outputs": [
        {
          "output_type": "stream",
          "name": "stdout",
          "text": [
            "[[1 2 3]\n",
            " [4 5 6]\n",
            " [7 8 9]]\n",
            "2.581988897471611 2.581988897471611\n",
            "[2.44948974 2.44948974 2.44948974] [2.44948974 2.44948974 2.44948974]\n",
            "[0.81649658 0.81649658 0.81649658] [0.81649658 0.81649658 0.81649658]\n"
          ]
        }
      ]
    },
    {
      "cell_type": "code",
      "source": [
        "# 실습 4-26. 브로드캐스팅\n",
        "\n",
        "# 브로드캐스팅을 사용하지 않은 경우\n",
        "x=np.array([1,2,3,4,5])\n",
        "y=np.array([1,1,1,1,1])\n",
        "print(x+y)\n",
        "\n",
        "# 브로드캐스팅을 사용한 경우\n",
        "y=1\n",
        "print(x+y)"
      ],
      "metadata": {
        "id": "EGeU1We9qdGU"
      },
      "execution_count": null,
      "outputs": []
    },
    {
      "cell_type": "code",
      "source": [
        "# 실습 4-27. shape가 다른 두 배열의 연산: 브로드캐스팅 | 스칼라 배열 변경과 연산\n",
        "a=np.arange(1,25).reshape(4,6)\n",
        "print(a+100) # 브로드캐스팅\n",
        "\n",
        "new_arr=np.full_like(a,100) # 스칼라 변경\n",
        "print(new_arr)\n",
        "print(a+new_arr) # 배열 이항 연산"
      ],
      "metadata": {
        "id": "ANk4A31EqfV8",
        "colab": {
          "base_uri": "https://localhost:8080/"
        },
        "outputId": "132795e3-df38-4f55-dcae-d0964d13bd02"
      },
      "execution_count": 41,
      "outputs": [
        {
          "output_type": "stream",
          "name": "stdout",
          "text": [
            "[[101 102 103 104 105 106]\n",
            " [107 108 109 110 111 112]\n",
            " [113 114 115 116 117 118]\n",
            " [119 120 121 122 123 124]]\n",
            "[[100 100 100 100 100 100]\n",
            " [100 100 100 100 100 100]\n",
            " [100 100 100 100 100 100]\n",
            " [100 100 100 100 100 100]]\n",
            "[[101 102 103 104 105 106]\n",
            " [107 108 109 110 111 112]\n",
            " [113 114 115 116 117 118]\n",
            " [119 120 121 122 123 124]]\n"
          ]
        }
      ]
    },
    {
      "cell_type": "code",
      "source": [
        "# 실습 4-28. shape가 다른 두 배열의 연산: 브로드캐스팅\n",
        "a=np.arange(5).reshape(1,5)\n",
        "print(a)\n",
        "b=np.arange(5).reshape(5,1)\n",
        "print(b)\n",
        "print(a+b) # 브로드캐스팅"
      ],
      "metadata": {
        "id": "0tX4cNWdqjiw"
      },
      "execution_count": null,
      "outputs": []
    },
    {
      "cell_type": "code",
      "source": [
        "# 실습 4-29. 벡터 연산 수행시간 비교\n",
        "import numpy as np\n",
        "import time\n",
        "a=np.arange(10000000)\n",
        "result=0\n",
        "\n",
        "s=time.time()\n",
        "\n",
        "for v in a:\n",
        "  result+=v\n",
        "\n",
        "e=time.time()\n",
        "print(result,e-s) # 반복문 연산 수행 시간\n",
        "\n",
        "s=time.time()\n",
        "result=np.sum(a)\n",
        "e=time.time()\n",
        "print(result,e-s) # 백터 연산 수행 시간"
      ],
      "metadata": {
        "id": "m8q0ZzbJruFt",
        "colab": {
          "base_uri": "https://localhost:8080/"
        },
        "outputId": "3f2de1fa-ee92-4539-da91-d9c71704bcf1"
      },
      "execution_count": 42,
      "outputs": [
        {
          "output_type": "stream",
          "name": "stdout",
          "text": [
            "49999995000000 1.6487419605255127\n",
            "49999995000000 0.007005929946899414\n"
          ]
        }
      ]
    },
    {
      "cell_type": "markdown",
      "source": [
        "4-5"
      ],
      "metadata": {
        "id": "xCHC878V5S5G"
      }
    },
    {
      "cell_type": "code",
      "source": [
        "# 실습 4-30. shape가 다른 두 배열의 연산\n",
        "a=np.random.randint(1,10,(3,3))\n",
        "print(a)\n",
        "print(a.T) #전치 행렬"
      ],
      "metadata": {
        "id": "qVgKDPdXsfZf",
        "colab": {
          "base_uri": "https://localhost:8080/"
        },
        "outputId": "16410991-45f3-40ad-9d2e-b4eb870f535c"
      },
      "execution_count": 43,
      "outputs": [
        {
          "output_type": "stream",
          "name": "stdout",
          "text": [
            "[[2 2 2]\n",
            " [7 5 4]\n",
            " [4 5 8]]\n",
            "[[2 7 4]\n",
            " [2 5 5]\n",
            " [2 4 8]]\n"
          ]
        }
      ]
    },
    {
      "cell_type": "code",
      "source": [
        "# 실습 4-31. 배열을 1차원 배열로 반환\n",
        "a=np.array([[1,2,3],[4,5,6]])\n",
        "print(a)\n",
        "\n",
        "a.ravel()\n",
        "b=a.ravel()\n",
        "b[0]=10\n",
        "\n",
        "print(b)\n",
        "print(a) # b 배열 변경이 a 행렬에 반영됨"
      ],
      "metadata": {
        "id": "mfnocBwGs2TS",
        "colab": {
          "base_uri": "https://localhost:8080/"
        },
        "outputId": "df90d1a2-17a9-43a5-8d39-0559ecf2816d"
      },
      "execution_count": 44,
      "outputs": [
        {
          "output_type": "stream",
          "name": "stdout",
          "text": [
            "[[1 2 3]\n",
            " [4 5 6]]\n",
            "[10  2  3  4  5  6]\n",
            "[[10  2  3]\n",
            " [ 4  5  6]]\n"
          ]
        }
      ]
    },
    {
      "cell_type": "code",
      "source": [
        "# 실습 4-32. reshape 함수\n",
        "x=np.arange(20)\n",
        "y=x.reshape(4,5)\n",
        "print(y)\n",
        "x[0]=10\n",
        "\n",
        "print(x)\n",
        "print(y)"
      ],
      "metadata": {
        "id": "aYPFJHXBs4u8",
        "colab": {
          "base_uri": "https://localhost:8080/"
        },
        "outputId": "6e301c57-529d-492b-e866-f0a8a009a40e"
      },
      "execution_count": 45,
      "outputs": [
        {
          "output_type": "stream",
          "name": "stdout",
          "text": [
            "[[ 0  1  2  3  4]\n",
            " [ 5  6  7  8  9]\n",
            " [10 11 12 13 14]\n",
            " [15 16 17 18 19]]\n",
            "[10  1  2  3  4  5  6  7  8  9 10 11 12 13 14 15 16 17 18 19]\n",
            "[[10  1  2  3  4]\n",
            " [ 5  6  7  8  9]\n",
            " [10 11 12 13 14]\n",
            " [15 16 17 18 19]]\n"
          ]
        }
      ]
    },
    {
      "cell_type": "code",
      "source": [
        "# 실습 4-33. 다차원 list data를 reshape하기: np.array()\n",
        "\n",
        "list_data=[1,2,3,4,5,6]\n",
        "# list_data.reshape(3,2)\n",
        "#ndarray 가 아닌 다른 자료(리스트, 튜플 등)를 바로 reshape 하면 오류 발생\n",
        "# np.array() 함수를 이용해서 numpy.ndarray 로 바꾸어야 reshape 할 수 있다\n",
        "\n",
        "data=np.array(list_data)\n",
        "type(data)\n",
        "print(data.reshape(3,2))\n",
        "print(list_data)"
      ],
      "metadata": {
        "id": "O53f9jlls828",
        "colab": {
          "base_uri": "https://localhost:8080/"
        },
        "outputId": "f7cf89e2-b417-42da-c794-931c0d07d1a2"
      },
      "execution_count": 48,
      "outputs": [
        {
          "output_type": "stream",
          "name": "stdout",
          "text": [
            "[[1 2]\n",
            " [3 4]\n",
            " [5 6]]\n",
            "[1, 2, 3, 4, 5, 6]\n"
          ]
        }
      ]
    },
    {
      "cell_type": "code",
      "source": [
        "# 실습 4-34. resize 함수: 요소 수가 동일한 경우\n",
        "x=np.arange(20)\n",
        "y=np.resize(x,(5,4))\n",
        "print(y)"
      ],
      "metadata": {
        "id": "vdHVHFJQtBZg",
        "colab": {
          "base_uri": "https://localhost:8080/"
        },
        "outputId": "ee35d93f-741b-49f3-fa69-46b73267fd87"
      },
      "execution_count": 51,
      "outputs": [
        {
          "output_type": "stream",
          "name": "stdout",
          "text": [
            "[[ 0  1  2  3]\n",
            " [ 4  5  6  7]\n",
            " [ 8  9 10 11]\n",
            " [12 13 14 15]\n",
            " [16 17 18 19]]\n"
          ]
        }
      ]
    },
    {
      "cell_type": "code",
      "source": [
        "# 실습 4-35. resize 함수: 요소 수가 더 많은 경우\n",
        "x=np.arange(20)\n",
        "y=np.resize(x,(5,6))\n",
        "print(y)"
      ],
      "metadata": {
        "id": "fau2t6-ItGpn",
        "colab": {
          "base_uri": "https://localhost:8080/"
        },
        "outputId": "30fa0033-5233-4f21-f3b4-4150182b476a"
      },
      "execution_count": 52,
      "outputs": [
        {
          "output_type": "stream",
          "name": "stdout",
          "text": [
            "[[ 0  1  2  3  4  5]\n",
            " [ 6  7  8  9 10 11]\n",
            " [12 13 14 15 16 17]\n",
            " [18 19  0  1  2  3]\n",
            " [ 4  5  6  7  8  9]]\n"
          ]
        }
      ]
    },
    {
      "cell_type": "code",
      "source": [
        "# 실습 4-36. resize 함수: 요소 수가 더 적은 경우\n",
        "x=np.arange(20)\n",
        "y=np.resize(x,(5,3))\n",
        "print(y)"
      ],
      "metadata": {
        "id": "6DJFXwc_tKMQ"
      },
      "execution_count": null,
      "outputs": []
    },
    {
      "cell_type": "code",
      "source": [
        "# 실습 4-37. resize() vs reshape()\n",
        "x=np.arange(20)\n",
        "y=np.resize(x,(4,5))\n",
        "print(y) # resize() 함수는 원래 배열과 동일한 메모리를 공유하지 않기 때문에 한 배열의 데이터 변경은 다른 배열에 매핑되지 않는다\n",
        "x[0]=10\n",
        "print(x)\n",
        "print(y)"
      ],
      "metadata": {
        "id": "3nb1RVCQtNdQ",
        "colab": {
          "base_uri": "https://localhost:8080/"
        },
        "outputId": "f4155c36-ef5b-4030-fad4-5bde04c3b374"
      },
      "execution_count": 53,
      "outputs": [
        {
          "output_type": "stream",
          "name": "stdout",
          "text": [
            "[[ 0  1  2  3  4]\n",
            " [ 5  6  7  8  9]\n",
            " [10 11 12 13 14]\n",
            " [15 16 17 18 19]]\n",
            "[10  1  2  3  4  5  6  7  8  9 10 11 12 13 14 15 16 17 18 19]\n",
            "[[ 0  1  2  3  4]\n",
            " [ 5  6  7  8  9]\n",
            " [10 11 12 13 14]\n",
            " [15 16 17 18 19]]\n"
          ]
        }
      ]
    },
    {
      "cell_type": "code",
      "source": [
        "# 실습 4-38. 값 추가: np.append()\n",
        "a=np.arange(3)\n",
        "b=np.append(a,3)\n",
        "print(b)"
      ],
      "metadata": {
        "id": "FzgzFPvjtRqk",
        "colab": {
          "base_uri": "https://localhost:8080/"
        },
        "outputId": "132b28b4-4f43-43dc-b400-7ffaf5da6783"
      },
      "execution_count": 54,
      "outputs": [
        {
          "output_type": "stream",
          "name": "stdout",
          "text": [
            "[0 1 2 3]\n"
          ]
        }
      ]
    },
    {
      "cell_type": "code",
      "source": [
        "# 실습 4-39. 배열 추가\n",
        "a=np.array([[1,2,3],[4,5,6]])\n",
        "b=np.array([[7,8,9]])\n",
        "c=np.append(a,b)\n",
        "print(c)"
      ],
      "metadata": {
        "id": "ANmln8ketW5n",
        "colab": {
          "base_uri": "https://localhost:8080/"
        },
        "outputId": "d828a598-cc51-43c8-dc5d-5467f103c0ae"
      },
      "execution_count": 55,
      "outputs": [
        {
          "output_type": "stream",
          "name": "stdout",
          "text": [
            "[1 2 3 4 5 6 7 8 9]\n"
          ]
        }
      ]
    },
    {
      "cell_type": "code",
      "source": [
        "# 실습 4-40. 축 추가\n",
        "a=np.array([[1,2,3],[4,5,6]])\n",
        "b=np.array([[7,8,9]])\n",
        "c=np.append(a,b,axis=0)\n",
        "print(c)"
      ],
      "metadata": {
        "id": "jWV3FtxztbNY",
        "colab": {
          "base_uri": "https://localhost:8080/"
        },
        "outputId": "1638a279-ebf8-4f68-f93b-26df49348fa9"
      },
      "execution_count": 56,
      "outputs": [
        {
          "output_type": "stream",
          "name": "stdout",
          "text": [
            "[[1 2 3]\n",
            " [4 5 6]\n",
            " [7 8 9]]\n"
          ]
        }
      ]
    },
    {
      "cell_type": "code",
      "source": [
        "# 실습 4-41. 값 추가: np.insert()\n",
        "# 1차원 배열\n",
        "a=np.array([1,2,3])\n",
        "b=np.insert(a,1,5)\n",
        "print(a)\n",
        "print(b)"
      ],
      "metadata": {
        "id": "UkSFCbisu-Sv",
        "colab": {
          "base_uri": "https://localhost:8080/"
        },
        "outputId": "9f1f714d-cef1-4fe5-9176-8a360ea57548"
      },
      "execution_count": 57,
      "outputs": [
        {
          "output_type": "stream",
          "name": "stdout",
          "text": [
            "[1 2 3]\n",
            "[1 5 2 3]\n"
          ]
        }
      ]
    },
    {
      "cell_type": "code",
      "source": [
        "# 실습 4-42. 축 추가\n",
        "a=np.array([[1,1],[2,2],[3,3]])\n",
        "b=np.insert(a,1,5)\n",
        "print(a)\n",
        "print(b)"
      ],
      "metadata": {
        "id": "DW2Za7tE457b"
      },
      "execution_count": null,
      "outputs": []
    },
    {
      "cell_type": "code",
      "source": [
        "# 실습 4-43. 축 추가: np.insert(arr, obj, values, axis=0) *axis=1은 세로 방향\n",
        "a=np.array([[1,1],[2,2],[3,3]])\n",
        "b=np.insert(a,1,5,axis=0)\n",
        "c=np.insert(a,1,5,axis=1)\n",
        "print(a)\n",
        "print(b)\n",
        "print(c)"
      ],
      "metadata": {
        "id": "kJXk0isEvETr",
        "colab": {
          "base_uri": "https://localhost:8080/"
        },
        "outputId": "dd87958b-b11e-4135-8393-f8b6ad2e61fc"
      },
      "execution_count": 59,
      "outputs": [
        {
          "output_type": "stream",
          "name": "stdout",
          "text": [
            "[[1 1]\n",
            " [2 2]\n",
            " [3 3]]\n",
            "[1 5 1 2 2 3 3]\n"
          ]
        }
      ]
    },
    {
      "cell_type": "code",
      "source": [
        "# 실습 4-44. 값 삭제: np.delete()\n",
        "a=np.arange(12).reshape(3,4)\n",
        "print(a)\n",
        "print(np.delete(a,5))"
      ],
      "metadata": {
        "id": "PTHc3UdFvW3U",
        "colab": {
          "base_uri": "https://localhost:8080/"
        },
        "outputId": "230d8979-c068-4577-930e-0d69d2db3e1e"
      },
      "execution_count": 61,
      "outputs": [
        {
          "output_type": "stream",
          "name": "stdout",
          "text": [
            "[[ 0  1  2  3]\n",
            " [ 4  5  6  7]\n",
            " [ 8  9 10 11]]\n",
            "[ 0  1  2  3  4  6  7  8  9 10 11]\n"
          ]
        }
      ]
    },
    {
      "cell_type": "code",
      "source": [
        "# 실습 4-45. 값 삭제 축 지정\n",
        "a=np.arange(12).reshape(3,4)\n",
        "print(a)\n",
        "print(np.delete(a,1,axis=0))\n",
        "print(np.delete(a,1,axis=1))"
      ],
      "metadata": {
        "id": "dFHW4iC4vkSC",
        "colab": {
          "base_uri": "https://localhost:8080/"
        },
        "outputId": "34637df1-62bf-48a1-cc51-d8c65c8269bb"
      },
      "execution_count": 62,
      "outputs": [
        {
          "output_type": "stream",
          "name": "stdout",
          "text": [
            "[[ 0  1  2  3]\n",
            " [ 4  5  6  7]\n",
            " [ 8  9 10 11]]\n",
            "[[ 0  1  2  3]\n",
            " [ 8  9 10 11]]\n",
            "[[ 0  2  3]\n",
            " [ 4  6  7]\n",
            " [ 8 10 11]]\n"
          ]
        }
      ]
    },
    {
      "cell_type": "code",
      "source": [
        "# 실습 4-46. 배열 결합\n",
        "a1=np.array([1,2,3])\n",
        "a2=np.array([4,5,6])\n",
        "arr=np.concatenate((a1,a2))\n",
        "print(arr)"
      ],
      "metadata": {
        "id": "vhbMvgi9vthk",
        "colab": {
          "base_uri": "https://localhost:8080/"
        },
        "outputId": "862d203c-57cc-402c-f50e-f6517504d612"
      },
      "execution_count": 63,
      "outputs": [
        {
          "output_type": "stream",
          "name": "stdout",
          "text": [
            "[1 2 3 4 5 6]\n"
          ]
        }
      ]
    },
    {
      "cell_type": "code",
      "source": [
        "# 실습 4-47. 배열 결합 축 지정\n",
        "a1=np.array([1,2,3])\n",
        "a2=np.array([4,5,6])\n",
        "axis0=np.concatenate((a1,a2),axis=0)\n",
        "axis1=np.concatenate((a1,a2),axis=1)\n",
        "print(axis0)\n",
        "print(axis1)"
      ],
      "metadata": {
        "id": "iY1ZfI8Fvv6O",
        "colab": {
          "base_uri": "https://localhost:8080/",
          "height": 219
        },
        "outputId": "035de3a5-5569-4f88-9080-8bdb05fcc96c"
      },
      "execution_count": 64,
      "outputs": [
        {
          "output_type": "error",
          "ename": "AxisError",
          "evalue": "axis 1 is out of bounds for array of dimension 1",
          "traceback": [
            "\u001b[0;31m---------------------------------------------------------------------------\u001b[0m",
            "\u001b[0;31mAxisError\u001b[0m                                 Traceback (most recent call last)",
            "\u001b[0;32m<ipython-input-64-9842f43d86da>\u001b[0m in \u001b[0;36m<cell line: 5>\u001b[0;34m()\u001b[0m\n\u001b[1;32m      3\u001b[0m \u001b[0ma2\u001b[0m\u001b[0;34m=\u001b[0m\u001b[0mnp\u001b[0m\u001b[0;34m.\u001b[0m\u001b[0marray\u001b[0m\u001b[0;34m(\u001b[0m\u001b[0;34m[\u001b[0m\u001b[0;36m4\u001b[0m\u001b[0;34m,\u001b[0m\u001b[0;36m5\u001b[0m\u001b[0;34m,\u001b[0m\u001b[0;36m6\u001b[0m\u001b[0;34m]\u001b[0m\u001b[0;34m)\u001b[0m\u001b[0;34m\u001b[0m\u001b[0;34m\u001b[0m\u001b[0m\n\u001b[1;32m      4\u001b[0m \u001b[0maxis0\u001b[0m\u001b[0;34m=\u001b[0m\u001b[0mnp\u001b[0m\u001b[0;34m.\u001b[0m\u001b[0mconcatenate\u001b[0m\u001b[0;34m(\u001b[0m\u001b[0;34m(\u001b[0m\u001b[0ma1\u001b[0m\u001b[0;34m,\u001b[0m\u001b[0ma2\u001b[0m\u001b[0;34m)\u001b[0m\u001b[0;34m,\u001b[0m\u001b[0maxis\u001b[0m\u001b[0;34m=\u001b[0m\u001b[0;36m0\u001b[0m\u001b[0;34m)\u001b[0m\u001b[0;34m\u001b[0m\u001b[0;34m\u001b[0m\u001b[0m\n\u001b[0;32m----> 5\u001b[0;31m \u001b[0maxis1\u001b[0m\u001b[0;34m=\u001b[0m\u001b[0mnp\u001b[0m\u001b[0;34m.\u001b[0m\u001b[0mconcatenate\u001b[0m\u001b[0;34m(\u001b[0m\u001b[0;34m(\u001b[0m\u001b[0ma1\u001b[0m\u001b[0;34m,\u001b[0m\u001b[0ma2\u001b[0m\u001b[0;34m)\u001b[0m\u001b[0;34m,\u001b[0m\u001b[0maxis\u001b[0m\u001b[0;34m=\u001b[0m\u001b[0;36m1\u001b[0m\u001b[0;34m)\u001b[0m\u001b[0;34m\u001b[0m\u001b[0;34m\u001b[0m\u001b[0m\n\u001b[0m\u001b[1;32m      6\u001b[0m \u001b[0mprint\u001b[0m\u001b[0;34m(\u001b[0m\u001b[0maxis0\u001b[0m\u001b[0;34m)\u001b[0m\u001b[0;34m\u001b[0m\u001b[0;34m\u001b[0m\u001b[0m\n\u001b[1;32m      7\u001b[0m \u001b[0mprint\u001b[0m\u001b[0;34m(\u001b[0m\u001b[0maxis1\u001b[0m\u001b[0;34m)\u001b[0m\u001b[0;34m\u001b[0m\u001b[0;34m\u001b[0m\u001b[0m\n",
            "\u001b[0;31mAxisError\u001b[0m: axis 1 is out of bounds for array of dimension 1"
          ]
        }
      ]
    },
    {
      "cell_type": "code",
      "source": [
        "# 실습 4-48. 수직 방향 배열 결합: np.vstack()\n",
        "a1=np.array([1,2,3])\n",
        "a2=np.array([4,5,6])\n",
        "np.vstack((a1,a2))"
      ],
      "metadata": {
        "id": "RbPAu0x8v2ga",
        "colab": {
          "base_uri": "https://localhost:8080/"
        },
        "outputId": "658cab70-0b13-4df4-cc0e-32ce62666199"
      },
      "execution_count": 66,
      "outputs": [
        {
          "output_type": "execute_result",
          "data": {
            "text/plain": [
              "array([[1, 2, 3],\n",
              "       [4, 5, 6]])"
            ]
          },
          "metadata": {},
          "execution_count": 66
        }
      ]
    },
    {
      "cell_type": "code",
      "source": [
        "# 실습 4-49. 수평 방향 배열 결합: np.hstack()\n",
        "a1=np.array([1,2,3])\n",
        "a2=np.array([4,5,6])\n",
        "np.hstack((a1,a2))"
      ],
      "metadata": {
        "id": "ytdHhzoev4nZ",
        "colab": {
          "base_uri": "https://localhost:8080/"
        },
        "outputId": "b7f6f216-0b36-4811-ddd8-8e17d0c11896"
      },
      "execution_count": 67,
      "outputs": [
        {
          "output_type": "execute_result",
          "data": {
            "text/plain": [
              "array([1, 2, 3, 4, 5, 6])"
            ]
          },
          "metadata": {},
          "execution_count": 67
        }
      ]
    },
    {
      "cell_type": "code",
      "source": [
        "# 실습 4-50. 수평 방향 배열 분리: np.hsplit()\n",
        "a=np.arange(16).reshape(4,4)\n",
        "a_hsplit=np.hsplit(a,2)\n",
        "print(a)\n",
        "print(a_hsplit)"
      ],
      "metadata": {
        "id": "SyD1OYKrv7Ji",
        "colab": {
          "base_uri": "https://localhost:8080/"
        },
        "outputId": "c35992e9-6fe1-4177-e8e1-afd578782312"
      },
      "execution_count": 68,
      "outputs": [
        {
          "output_type": "stream",
          "name": "stdout",
          "text": [
            "[[ 0  1  2  3]\n",
            " [ 4  5  6  7]\n",
            " [ 8  9 10 11]\n",
            " [12 13 14 15]]\n",
            "[array([[ 0,  1],\n",
            "       [ 4,  5],\n",
            "       [ 8,  9],\n",
            "       [12, 13]]), array([[ 2,  3],\n",
            "       [ 6,  7],\n",
            "       [10, 11],\n",
            "       [14, 15]])]\n"
          ]
        }
      ]
    },
    {
      "cell_type": "code",
      "source": [
        "# 실습 4-51. 수직 방향 배열 분리: np.vsplit()\n",
        "a=np.arange(16).reshape(4,4)\n",
        "a_vsplit=np.vsplit(a,2)\n",
        "print(a)\n",
        "print(a_vsplit)"
      ],
      "metadata": {
        "id": "b8_Ob5Yiv9P7",
        "colab": {
          "base_uri": "https://localhost:8080/"
        },
        "outputId": "99a479ed-da2d-47ef-ac60-c5cf8757fdb6"
      },
      "execution_count": 70,
      "outputs": [
        {
          "output_type": "stream",
          "name": "stdout",
          "text": [
            "[[ 0  1  2  3]\n",
            " [ 4  5  6  7]\n",
            " [ 8  9 10 11]\n",
            " [12 13 14 15]]\n",
            "[array([[0, 1, 2, 3],\n",
            "       [4, 5, 6, 7]]), array([[ 8,  9, 10, 11],\n",
            "       [12, 13, 14, 15]])]\n"
          ]
        }
      ]
    },
    {
      "cell_type": "markdown",
      "source": [
        "# **2. 연습 문제**"
      ],
      "metadata": {
        "id": "kJ6UJqJeWcRy"
      }
    },
    {
      "cell_type": "code",
      "source": [
        "# 연습 2-1. 값이 10~50인 벡터를 만들고 벡터를 반전시켜 출력해 보세요.\n",
        "import numpy as np\n",
        "\n",
        "arr = np.arange(10, 51)\n",
        "print(arr)\n",
        "print('ndim:', arr.ndim)\n",
        "print(arr.shape)  # 배열의 형태 출력\n",
        "print(arr.dtype)  # 배열의 데이터 타입 출력\n",
        "print('size:', arr.size)"
      ],
      "metadata": {
        "id": "RT0q5A3FWilq",
        "colab": {
          "base_uri": "https://localhost:8080/"
        },
        "outputId": "0fe1c03e-915b-435f-94d4-f6b7f83f2b1e"
      },
      "execution_count": 71,
      "outputs": [
        {
          "output_type": "stream",
          "name": "stdout",
          "text": [
            "[10 11 12 13 14 15 16 17 18 19 20 21 22 23 24 25 26 27 28 29 30 31 32 33\n",
            " 34 35 36 37 38 39 40 41 42 43 44 45 46 47 48 49 50]\n",
            "ndim: 1\n",
            "(41,)\n",
            "int64\n",
            "size: 41\n"
          ]
        }
      ]
    },
    {
      "cell_type": "code",
      "source": [
        "# 연습 2-2. 랜덤 값이 있는 10x10 배열을 만들고 최댓값과 최솟값을 찾아보세요.\n",
        "import numpy as np\n",
        "\n",
        "array = np.random.rand(10, 10)\n",
        "\n",
        "max_value = np.max(array)\n",
        "min_value = np.min(array)\n",
        "\n",
        "print(\"\\n최댓값:\", max_value)\n",
        "print(\"최솟값:\", min_value)"
      ],
      "metadata": {
        "id": "WQUsiQC3WuSX",
        "colab": {
          "base_uri": "https://localhost:8080/"
        },
        "outputId": "c039e1a6-5404-4213-fe08-1885c63b9e27"
      },
      "execution_count": 72,
      "outputs": [
        {
          "output_type": "stream",
          "name": "stdout",
          "text": [
            "\n",
            "최댓값: 0.9941919596210848\n",
            "최솟값: 0.0016670722379912295\n"
          ]
        }
      ]
    },
    {
      "cell_type": "code",
      "source": [
        "# 연습 2-3. 0~8 범위의 값을 사용하여 3x3 배열을 생성해 보세요.\n",
        "import numpy as np\n",
        "\n",
        "array = np.random.randint(0, 9, size=(3, 3))\n",
        "print(array)"
      ],
      "metadata": {
        "id": "V46iFoq3W67f",
        "colab": {
          "base_uri": "https://localhost:8080/"
        },
        "outputId": "f8c17c30-c439-4b91-ecdd-a3e0b62bacca"
      },
      "execution_count": 73,
      "outputs": [
        {
          "output_type": "stream",
          "name": "stdout",
          "text": [
            "[[1 2 2]\n",
            " [8 7 7]\n",
            " [6 7 1]]\n"
          ]
        }
      ]
    },
    {
      "cell_type": "code",
      "source": [
        "# 연습 2-4. 다음과 같이 1에서 24까지의 값을 가지는 4x6 크기의 2차원 행렬 arr을 생성해 보세요.\n",
        "import numpy as np\n",
        "\n",
        "arr = np.arange(1, 25).reshape(4, 6)\n",
        "print(arr)"
      ],
      "metadata": {
        "id": "mvnTZVtxW7Ma",
        "colab": {
          "base_uri": "https://localhost:8080/"
        },
        "outputId": "106ce4f2-989e-4141-b933-ddc6150776a4"
      },
      "execution_count": 74,
      "outputs": [
        {
          "output_type": "stream",
          "name": "stdout",
          "text": [
            "[[ 1  2  3  4  5  6]\n",
            " [ 7  8  9 10 11 12]\n",
            " [13 14 15 16 17 18]\n",
            " [19 20 21 22 23 24]]\n"
          ]
        }
      ]
    },
    {
      "cell_type": "code",
      "source": [
        "# 연습 2-5. arr 배열에 슬라이싱을 적용하여 다음과 같은 값을 가지는 배열을 생성해 보세요.\n",
        "arr = np.arange(1, 25).reshape(4, 6)\n",
        "result = arr[1:4, 1:5]\n",
        "print(result)"
      ],
      "metadata": {
        "id": "qVhUKWj3W7iA",
        "colab": {
          "base_uri": "https://localhost:8080/"
        },
        "outputId": "0a85a37e-c691-4a4c-ded8-c22d59f807ca"
      },
      "execution_count": 76,
      "outputs": [
        {
          "output_type": "stream",
          "name": "stdout",
          "text": [
            "[[ 8  9 10 11]\n",
            " [14 15 16 17]\n",
            " [20 21 22 23]]\n"
          ]
        }
      ]
    },
    {
      "cell_type": "code",
      "source": [
        "# 연습 2-6. arr 배열에 슬라이싱을 적용하여 다음과 같은 값을 가지는 배열을 생성해 보세요.\n",
        "import numpy as np\n",
        "\n",
        "arr = np.arange(1, 25).reshape(4, 6)\n",
        "print(np.flip(arr[2:4, :]))"
      ],
      "metadata": {
        "id": "4GrVXWRiXZxd",
        "colab": {
          "base_uri": "https://localhost:8080/"
        },
        "outputId": "87b368c6-693c-4a53-f542-c9029e3c8a8d"
      },
      "execution_count": 91,
      "outputs": [
        {
          "output_type": "stream",
          "name": "stdout",
          "text": [
            "[[24 23 22 21 20 19]\n",
            " [18 17 16 15 14 13]]\n"
          ]
        }
      ]
    },
    {
      "cell_type": "code",
      "source": [
        "# 연습 2-7. arr 배열에서 2의 배수만 출력해 보세요.\n",
        "import numpy as np\n",
        "\n",
        "arr = np.arange(1, 25)\n",
        "result = arr[arr % 2 == 0]\n",
        "\n",
        "print(result)"
      ],
      "metadata": {
        "id": "qgUl6bZDXZ9J",
        "colab": {
          "base_uri": "https://localhost:8080/"
        },
        "outputId": "5a616ecf-a0ec-4465-9e4e-e66f64a735fe"
      },
      "execution_count": 79,
      "outputs": [
        {
          "output_type": "stream",
          "name": "stdout",
          "text": [
            "[ 2  4  6  8 10 12 14 16 18 20 22 24]\n"
          ]
        }
      ]
    },
    {
      "cell_type": "code",
      "source": [
        "# 연습 2-8. arr 배열에서 10부터 20까지의 값만 출력해 보세요.\n",
        "import numpy as np\n",
        "\n",
        "arr = np.arange(1, 25)\n",
        "result = arr[(arr >= 10) & (arr <= 20)]\n",
        "\n",
        "print(result)"
      ],
      "metadata": {
        "id": "83Bb_1njXabI",
        "colab": {
          "base_uri": "https://localhost:8080/"
        },
        "outputId": "842efcad-2b6c-468b-8a75-e96519b3f51f"
      },
      "execution_count": 80,
      "outputs": [
        {
          "output_type": "stream",
          "name": "stdout",
          "text": [
            "[10 11 12 13 14 15 16 17 18 19 20]\n"
          ]
        }
      ]
    },
    {
      "cell_type": "code",
      "source": [
        "'''\n",
        "연습 4. 학생들의 근로 장학금이 numpy 배열에 저장되어 있다.\n",
        "이번 학기 학생들의 근로장학금을 1.5배 올려주려고 한다.\n",
        "다음은 인상된 근로 장학금을 출력하고 근로장학금이 평균 근로장학금보다 많은 학생들의 근로장학금을 출력하고 원소의 수를 출력하는 프로그램이다.\n",
        "실행결과를 확인하고 빈칸에 가장 알맞은 답을 작성해 보세요.\n",
        "'''\n",
        "\n",
        "import numpy as np\n",
        "\n",
        "scholarship = np.array([100, 200, 150, 300, 250, 400, 350])\n",
        "increased_scholarship = scholarship * 1.5\n",
        "\n",
        "print(\"인상된 근로 장학금:\")\n",
        "print(increased_scholarship)\n",
        "\n",
        "avg_scholarship = np.mean(scholarship)\n",
        "\n",
        "print(\"\\n평균 근로 장학금:\", avg_scholarship)\n",
        "\n",
        "# 평균 근로 장학금보다 많은 근로 장학금을 받은 학생들의 근로 장학금\n",
        "more_than_avg = scholarship[scholarship > avg_scholarship]\n",
        "num_more_than_avg = len(more_than_avg)\n",
        "\n",
        "print(\"\\n평균 근로 장학금 이상을 받은 학생들의 근로 장학금:\")\n",
        "print(more_than_avg)\n",
        "print(\"학생 수:\", num_more_than_avg)"
      ],
      "metadata": {
        "id": "AXhnn4ssXs1y",
        "colab": {
          "base_uri": "https://localhost:8080/"
        },
        "outputId": "5bf01a4e-b3f0-4edb-97a4-e5af26779e0d"
      },
      "execution_count": 1,
      "outputs": [
        {
          "output_type": "stream",
          "name": "stdout",
          "text": [
            "인상된 근로 장학금:\n",
            "[150. 300. 225. 450. 375. 600. 525.]\n",
            "\n",
            "평균 근로 장학금: 250.0\n",
            "\n",
            "평균 근로 장학금 이상을 받은 학생들의 근로 장학금:\n",
            "[300 400 350]\n",
            "학생 수: 3\n"
          ]
        }
      ]
    }
  ]
}